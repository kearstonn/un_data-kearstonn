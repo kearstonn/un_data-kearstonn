{
 "cells": [
  {
   "cell_type": "code",
   "execution_count": null,
   "id": "e151e34b",
   "metadata": {},
   "outputs": [],
   "source": [
    "import pandas as pd\n",
    "import numpy as np\n",
    "import matplotlib.pyplot as plt\n",
    "import seaborn as sns"
   ]
  },
  {
   "cell_type": "code",
   "execution_count": null,
   "id": "ea46fa34",
   "metadata": {},
   "outputs": [],
   "source": [
    "gdp_df = pd.read_csv(\"C:/Users/kears/NSS/Python/projects/un_data-kearstonn/data/gdp_percapita.csv\")"
   ]
  },
  {
   "cell_type": "markdown",
   "id": "6b29d196",
   "metadata": {},
   "source": [
    "QUESTION 5:How many rows and columns are in gdp_df? What are the data types of each column?"
   ]
  },
  {
   "cell_type": "code",
   "execution_count": null,
   "id": "79b5c69d",
   "metadata": {
    "scrolled": true
   },
   "outputs": [],
   "source": [
    "gdp_df"
   ]
  },
  {
   "cell_type": "code",
   "execution_count": null,
   "id": "ccc3ef96",
   "metadata": {},
   "outputs": [],
   "source": [
    "datatypes = gdp_df.dtypes"
   ]
  },
  {
   "cell_type": "code",
   "execution_count": null,
   "id": "c6ef2cc4",
   "metadata": {},
   "outputs": [],
   "source": [
    "datatypes"
   ]
  },
  {
   "cell_type": "markdown",
   "id": "b0064bb2",
   "metadata": {},
   "source": [
    "QUESTION 6:Drop the Value Footnotes column and rename the remaining three to 'Country', 'Year', and 'GDP_Per_Capita'."
   ]
  },
  {
   "cell_type": "code",
   "execution_count": null,
   "id": "c2528c7d",
   "metadata": {},
   "outputs": [],
   "source": [
    "gdp_df.columns"
   ]
  },
  {
   "cell_type": "code",
   "execution_count": null,
   "id": "91fc30a1",
   "metadata": {},
   "outputs": [],
   "source": [
    "new_gdp= gdp_df.drop(columns = ['Value Footnotes'])"
   ]
  },
  {
   "cell_type": "code",
   "execution_count": null,
   "id": "48f3693d",
   "metadata": {},
   "outputs": [],
   "source": [
    "new_named_gdp=new_gdp.rename(columns = {'Country or Area': 'Country', 'Value': 'GDP_Per_Capita'})"
   ]
  },
  {
   "cell_type": "code",
   "execution_count": null,
   "id": "5296d53e",
   "metadata": {},
   "outputs": [],
   "source": [
    "new_named_gdp"
   ]
  },
  {
   "cell_type": "markdown",
   "id": "5a2b4541",
   "metadata": {},
   "source": [
    "QUESTION 7:How many countries have data for all years? Which countries are missing many years of data? Look at the number of observations per year. What do you notice?"
   ]
  },
  {
   "cell_type": "code",
   "execution_count": null,
   "id": "73a0133f",
   "metadata": {},
   "outputs": [],
   "source": [
    "gdp_2= new_named_gdp['Country'].value_counts().to_frame().reset_index().rename(columns={'index':'country', 'Country':'total_count'})"
   ]
  },
  {
   "cell_type": "code",
   "execution_count": null,
   "id": "fd360701",
   "metadata": {},
   "outputs": [],
   "source": [
    "gdp_2.loc[gdp_2['total_count']== 31]"
   ]
  },
  {
   "cell_type": "code",
   "execution_count": null,
   "id": "4bc56ef4",
   "metadata": {},
   "outputs": [],
   "source": [
    "gdp_2.loc[gdp_2['total_count'] != 31]"
   ]
  },
  {
   "cell_type": "markdown",
   "id": "f96e8cfe",
   "metadata": {},
   "source": [
    "QUESTION 8:In this question, you're going to create some plots to show the distribution of GDP per capita for the year 2020. Go to the Python Graph Gallery (https://www.python-graph-gallery.com/) and look at the different types of plots under the Distribution section. Create a histogram, a density plot, a boxplot, and a violin plot. What do you notice when you look at these plots? How do the plots compare and what information can you get out of one type that you can't necessarily get out of the others?"
   ]
  },
  {
   "cell_type": "code",
   "execution_count": null,
   "id": "03b07529",
   "metadata": {},
   "outputs": [],
   "source": [
    "sns.distplot(a=new_named_gdp['GDP_Per_Capita'])"
   ]
  },
  {
   "cell_type": "code",
   "execution_count": null,
   "id": "6affe518",
   "metadata": {},
   "outputs": [],
   "source": [
    "sns.kdeplot(new_named_gdp['GDP_Per_Capita'])"
   ]
  },
  {
   "cell_type": "code",
   "execution_count": null,
   "id": "85f74606",
   "metadata": {},
   "outputs": [],
   "source": [
    "sns.boxplot(x = new_named_gdp['Year'], y= new_named_gdp['GDP_Per_Capita'])"
   ]
  },
  {
   "cell_type": "code",
   "execution_count": null,
   "id": "043ec57e",
   "metadata": {},
   "outputs": [],
   "source": [
    "sns.violinplot(x= new_named_gdp['Year'], y= new_named_gdp['GDP_Per_Capita'])"
   ]
  },
  {
   "cell_type": "markdown",
   "id": "efc2dded",
   "metadata": {},
   "source": [
    "QUESTION 9:What was the median GDP per capita value in 2020?"
   ]
  },
  {
   "cell_type": "code",
   "execution_count": null,
   "id": "5bf050f1",
   "metadata": {},
   "outputs": [],
   "source": [
    "new_named_gdp.loc[new_named_gdp['Year']== 2020]"
   ]
  },
  {
   "cell_type": "code",
   "execution_count": null,
   "id": "98a2e968",
   "metadata": {},
   "outputs": [],
   "source": [
    "print(new_named_gdp['GDP_Per_Capita'].median())"
   ]
  },
  {
   "cell_type": "markdown",
   "id": "a618c29e",
   "metadata": {},
   "source": [
    "QUESTION 10:For this question, you're going to create some visualizations to compare GDP per capita values for the years 1990, 2000, 2010, and 2020. Start by subsetting your data to just these 4 years into a new DataFrame named gdp_decades. Using this, create the following 4 plots."
   ]
  },
  {
   "cell_type": "code",
   "execution_count": null,
   "id": "d12c724e",
   "metadata": {},
   "outputs": [],
   "source": [
    "gdp_decades = new_named_gdp.loc[(new_named_gdp['Year']== 1990) | (new_named_gdp['Year']== 2000) \n",
    "                                 | (new_named_gdp['Year']==2010) | (new_named_gdp['Year']==2020)]"
   ]
  },
  {
   "cell_type": "code",
   "execution_count": null,
   "id": "5277475f",
   "metadata": {},
   "outputs": [],
   "source": [
    "sns.boxplot(x=gdp_decades['Year'], y=gdp_decades['GDP_Per_Capita'])"
   ]
  },
  {
   "cell_type": "code",
   "execution_count": null,
   "id": "1b0d8f46",
   "metadata": {},
   "outputs": [],
   "source": [
    "sns.barplot(x='Year', y='GDP_Per_Capita', data = gdp_decades, estimator= sum, ci='none', color= '#69b3a2')"
   ]
  },
  {
   "cell_type": "code",
   "execution_count": null,
   "id": "1f7c3d17",
   "metadata": {},
   "outputs": [],
   "source": [
    "sns.regplot(x=gdp_decades['Year'], y=gdp_decades['GDP_Per_Capita'])"
   ]
  },
  {
   "cell_type": "code",
   "execution_count": null,
   "id": "4512a2cf",
   "metadata": {},
   "outputs": [],
   "source": [
    "sns.regplot(x=gdp_decades['Year'], y=gdp_decades['GDP_Per_Capita'], line_kws={'color':'r', 'alpha': 0.7, 'lw': 5})\n",
    "plt.show()"
   ]
  },
  {
   "cell_type": "code",
   "execution_count": null,
   "id": "fe5982aa",
   "metadata": {},
   "outputs": [],
   "source": []
  }
 ],
 "metadata": {
  "kernelspec": {
   "display_name": "Python 3 (ipykernel)",
   "language": "python",
   "name": "python3"
  },
  "language_info": {
   "codemirror_mode": {
    "name": "ipython",
    "version": 3
   },
   "file_extension": ".py",
   "mimetype": "text/x-python",
   "name": "python",
   "nbconvert_exporter": "python",
   "pygments_lexer": "ipython3",
   "version": "3.10.9"
  }
 },
 "nbformat": 4,
 "nbformat_minor": 5
}
