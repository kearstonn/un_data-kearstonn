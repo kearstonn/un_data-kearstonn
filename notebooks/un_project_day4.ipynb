{
 "cells": [
  {
   "cell_type": "code",
   "execution_count": null,
   "id": "e151e34b",
   "metadata": {},
   "outputs": [],
   "source": [
    "import pandas as pd\n",
    "import numpy as np\n",
    "import matplotlib.pyplot as plt\n",
    "import seaborn as sns"
   ]
  },
  {
   "cell_type": "code",
   "execution_count": null,
   "id": "ea46fa34",
   "metadata": {},
   "outputs": [],
   "source": [
    "gdp_df = pd.read_csv(\"C:/Users/kears/NSS/Python/projects/un_data-kearstonn/data/gdp_percapita.csv\")"
   ]
  },
  {
   "cell_type": "markdown",
   "id": "6b29d196",
   "metadata": {},
   "source": [
    "QUESTION 5:How many rows and columns are in gdp_df? What are the data types of each column?"
   ]
  },
  {
   "cell_type": "code",
   "execution_count": null,
   "id": "79b5c69d",
   "metadata": {
    "scrolled": true
   },
   "outputs": [],
   "source": [
    "gdp_df"
   ]
  },
  {
   "cell_type": "code",
   "execution_count": null,
   "id": "ccc3ef96",
   "metadata": {},
   "outputs": [],
   "source": [
    "datatypes = gdp_df.dtypes"
   ]
  },
  {
   "cell_type": "code",
   "execution_count": null,
   "id": "c6ef2cc4",
   "metadata": {},
   "outputs": [],
   "source": [
    "datatypes"
   ]
  },
  {
   "cell_type": "markdown",
   "id": "b0064bb2",
   "metadata": {},
   "source": [
    "QUESTION 6:Drop the Value Footnotes column and rename the remaining three to 'Country', 'Year', and 'GDP_Per_Capita'."
   ]
  },
  {
   "cell_type": "code",
   "execution_count": null,
   "id": "c2528c7d",
   "metadata": {},
   "outputs": [],
   "source": [
    "gdp_df.columns"
   ]
  },
  {
   "cell_type": "code",
   "execution_count": null,
   "id": "91fc30a1",
   "metadata": {},
   "outputs": [],
   "source": [
    "new_gdp= gdp_df.drop(columns = ['Value Footnotes'])"
   ]
  },
  {
   "cell_type": "code",
   "execution_count": null,
   "id": "48f3693d",
   "metadata": {},
   "outputs": [],
   "source": [
    "new_named_gdp=new_gdp.rename(columns = {'Country or Area': 'Country', 'Value': 'GDP_Per_Capita'})"
   ]
  },
  {
   "cell_type": "code",
   "execution_count": null,
   "id": "5296d53e",
   "metadata": {},
   "outputs": [],
   "source": [
    "new_named_gdp"
   ]
  },
  {
   "cell_type": "markdown",
   "id": "5a2b4541",
   "metadata": {},
   "source": [
    "QUESTION 7:How many countries have data for all years? Which countries are missing many years of data? Look at the number of observations per year. What do you notice?"
   ]
  },
  {
   "cell_type": "code",
   "execution_count": null,
   "id": "73a0133f",
   "metadata": {},
   "outputs": [],
   "source": [
    "gdp_2= new_named_gdp['Country'].value_counts().to_frame().reset_index().rename(columns={'index':'country', 'Country':'total_count'})"
   ]
  },
  {
   "cell_type": "code",
   "execution_count": null,
   "id": "fd360701",
   "metadata": {},
   "outputs": [],
   "source": [
    "gdp_2.loc[gdp_2['total_count']== 31]"
   ]
  },
  {
   "cell_type": "code",
   "execution_count": null,
   "id": "4bc56ef4",
   "metadata": {},
   "outputs": [],
   "source": [
    "gdp_2.loc[gdp_2['total_count'] != 31]"
   ]
  },
  {
   "cell_type": "markdown",
   "id": "f96e8cfe",
   "metadata": {},
   "source": [
    "QUESTION 8:In this question, you're going to create some plots to show the distribution of GDP per capita for the year 2020. Go to the Python Graph Gallery (https://www.python-graph-gallery.com/) and look at the different types of plots under the Distribution section. Create a histogram, a density plot, a boxplot, and a violin plot. What do you notice when you look at these plots? How do the plots compare and what information can you get out of one type that you can't necessarily get out of the others?"
   ]
  },
  {
   "cell_type": "code",
   "execution_count": null,
   "id": "03b07529",
   "metadata": {},
   "outputs": [],
   "source": [
    "sns.distplot(a=new_named_gdp['GDP_Per_Capita'])"
   ]
  },
  {
   "cell_type": "code",
   "execution_count": null,
   "id": "6affe518",
   "metadata": {},
   "outputs": [],
   "source": [
    "sns.kdeplot(new_named_gdp['GDP_Per_Capita'])"
   ]
  },
  {
   "cell_type": "code",
   "execution_count": null,
   "id": "85f74606",
   "metadata": {},
   "outputs": [],
   "source": [
    "sns.boxplot(x = new_named_gdp['Year'], y= new_named_gdp['GDP_Per_Capita'])"
   ]
  },
  {
   "cell_type": "code",
   "execution_count": null,
   "id": "043ec57e",
   "metadata": {},
   "outputs": [],
   "source": [
    "sns.violinplot(x= new_named_gdp['Year'], y= new_named_gdp['GDP_Per_Capita'])"
   ]
  },
  {
   "cell_type": "markdown",
   "id": "efc2dded",
   "metadata": {},
   "source": [
    "QUESTION 9:What was the median GDP per capita value in 2020?"
   ]
  },
  {
   "cell_type": "code",
   "execution_count": null,
   "id": "5bf050f1",
   "metadata": {},
   "outputs": [],
   "source": [
    "new_named_gdp.loc[new_named_gdp['Year']== 2020]"
   ]
  },
  {
   "cell_type": "code",
   "execution_count": null,
   "id": "98a2e968",
   "metadata": {},
   "outputs": [],
   "source": [
    "print(new_named_gdp['GDP_Per_Capita'].median())"
   ]
  },
  {
   "cell_type": "markdown",
   "id": "a618c29e",
   "metadata": {},
   "source": [
    "QUESTION 10:For this question, you're going to create some visualizations to compare GDP per capita values for the years 1990, 2000, 2010, and 2020. Start by subsetting your data to just these 4 years into a new DataFrame named gdp_decades. Using this, create the following 4 plots."
   ]
  },
  {
   "cell_type": "code",
   "execution_count": null,
   "id": "d12c724e",
   "metadata": {},
   "outputs": [],
   "source": [
    "gdp_decades = new_named_gdp.loc[(new_named_gdp['Year']== 1990) | (new_named_gdp['Year']== 2000) \n",
    "                                 | (new_named_gdp['Year']==2010) | (new_named_gdp['Year']==2020)]"
   ]
  },
  {
   "cell_type": "code",
   "execution_count": null,
   "id": "5277475f",
   "metadata": {},
   "outputs": [],
   "source": [
    "sns.boxplot(x=gdp_decades['Year'], y=gdp_decades['GDP_Per_Capita'])"
   ]
  },
  {
   "cell_type": "code",
   "execution_count": null,
   "id": "1b0d8f46",
   "metadata": {},
   "outputs": [],
   "source": [
    "sns.barplot(x=gdp_decades['Year'], y=gdp_decades['GDP_Per_Capita'])"
   ]
  },
  {
   "cell_type": "code",
   "execution_count": null,
   "id": "1f7c3d17",
   "metadata": {},
   "outputs": [],
   "source": [
    "sns.regplot(x=gdp_decades['Year'], y=gdp_decades['GDP_Per_Capita'])"
   ]
  },
  {
   "cell_type": "code",
   "execution_count": null,
   "id": "4512a2cf",
   "metadata": {},
   "outputs": [],
   "source": [
    "sns.regplot(x=gdp_decades['Year'], y=gdp_decades['GDP_Per_Capita'], line_kws={'color':'r', 'alpha': 0.7, 'lw': 5})\n",
    "plt.show()"
   ]
  },
  {
   "cell_type": "markdown",
   "id": "5e61957d",
   "metadata": {},
   "source": [
    "QUESTION 11:Which country was the first to have a GDP per capita greater than $100,000?\n",
    "United Arab Emirates 1990"
   ]
  },
  {
   "cell_type": "code",
   "execution_count": null,
   "id": "b710a189",
   "metadata": {},
   "outputs": [],
   "source": [
    "new_named_gdp.loc[new_named_gdp['GDP_Per_Capita']> 100000] "
   ]
  },
  {
   "cell_type": "markdown",
   "id": "83e9f494",
   "metadata": {},
   "source": [
    "QUESTION 12:Which country had the highest GDP per capita in 2020? Create a plot showing how this country's GDP per capita has changed over the timespan of the dataset.Luxembourg"
   ]
  },
  {
   "cell_type": "code",
   "execution_count": null,
   "id": "db1d38ae",
   "metadata": {},
   "outputs": [],
   "source": [
    "gdp_2020=new_named_gdp.loc[new_named_gdp['Year']== 2020]"
   ]
  },
  {
   "cell_type": "code",
   "execution_count": null,
   "id": "8d008613",
   "metadata": {},
   "outputs": [],
   "source": [
    "max(gdp_2020['GDP_Per_Capita'])"
   ]
  },
  {
   "cell_type": "code",
   "execution_count": null,
   "id": "5937a510",
   "metadata": {},
   "outputs": [],
   "source": [
    "luxembourg_gdp= new_named_gdp.loc[new_named_gdp['Country']== 'Luxembourg']"
   ]
  },
  {
   "cell_type": "code",
   "execution_count": null,
   "id": "2edf6f0c",
   "metadata": {},
   "outputs": [],
   "source": [
    "sns.regplot(x=luxembourg_gdp['Year'], y=luxembourg_gdp['GDP_Per_Capita'])"
   ]
  },
  {
   "cell_type": "markdown",
   "id": "3a528958",
   "metadata": {},
   "source": [
    "QUESTION 13:Which country had the lowest GDP per capita in 2020? ~ Burundi\n",
    "    Create a plot showing how this country's GDP per capita has changed over the timespan of the dataset. \n",
    "    Bonus question: Is it true in general that coutries had a higher GDP per capita in 2020 than in 1990? \n",
    "        Which countries had lower GDP per capita in 2020 than in 1990?"
   ]
  },
  {
   "cell_type": "code",
   "execution_count": null,
   "id": "3322b570",
   "metadata": {},
   "outputs": [],
   "source": [
    "gdp_2020=new_named_gdp.loc[new_named_gdp['Year']== 2020]"
   ]
  },
  {
   "cell_type": "code",
   "execution_count": null,
   "id": "63a2ab01",
   "metadata": {},
   "outputs": [],
   "source": [
    "gdp_2020.loc[gdp_2020['GDP_Per_Capita'] < 1000]"
   ]
  },
  {
   "cell_type": "code",
   "execution_count": null,
   "id": "15c354d1",
   "metadata": {},
   "outputs": [],
   "source": [
    "min(gdp_2020['GDP_Per_Capita'])"
   ]
  },
  {
   "cell_type": "code",
   "execution_count": null,
   "id": "04e52b4a",
   "metadata": {},
   "outputs": [],
   "source": [
    "burundi_gdp= new_named_gdp.loc[new_named_gdp['Country']== 'Burundi']"
   ]
  },
  {
   "cell_type": "code",
   "execution_count": null,
   "id": "b047403b",
   "metadata": {},
   "outputs": [],
   "source": [
    "sns.regplot(x=burundi_gdp['Year'], y=burundi_gdp['GDP_Per_Capita'])"
   ]
  },
  {
   "cell_type": "markdown",
   "id": "0ce923bb",
   "metadata": {},
   "source": [
    "QUESTION 14:Read in the internet use dataset into a DataFrame named internet_df. \n",
    "    You will likely get errors when doing this. \n",
    "    Check the arguments for the read_csv function to find ones that can help correct the errors \n",
    "    (https://pandas.pydata.org/docs/reference/api/pandas.read_csv.html) \n",
    "    Once you are able to read it in, take per a look at the top and bottom few rows to make sure that it has been \n",
    "    read in correctly. Also, check the datatypes of the columns."
   ]
  },
  {
   "cell_type": "code",
   "execution_count": null,
   "id": "25b0e01a",
   "metadata": {},
   "outputs": [],
   "source": [
    "internet_df = pd.read_csv(\"C:/Users/kears/NSS/Python/projects/un_data-kearstonn/data/internet_use.csv\",nrows=4495)"
   ]
  },
  {
   "cell_type": "code",
   "execution_count": null,
   "id": "850f657b",
   "metadata": {},
   "outputs": [],
   "source": [
    "internet_df"
   ]
  },
  {
   "cell_type": "markdown",
   "id": "08dfef59",
   "metadata": {},
   "source": [
    "QUESTION 15:Drop the Value Footnotes column and rename the remaining three to \n",
    "    'Country', 'Year', and 'Internet_Users_Pct'."
   ]
  },
  {
   "cell_type": "code",
   "execution_count": null,
   "id": "8b8426c6",
   "metadata": {},
   "outputs": [],
   "source": [
    "internet_df.dtypes"
   ]
  },
  {
   "cell_type": "code",
   "execution_count": null,
   "id": "b4d57adc",
   "metadata": {},
   "outputs": [],
   "source": [
    "internet_df= internet_df.drop(columns = ['Value Footnotes'])"
   ]
  },
  {
   "cell_type": "code",
   "execution_count": null,
   "id": "f858c8c2",
   "metadata": {},
   "outputs": [],
   "source": [
    "internet_df"
   ]
  },
  {
   "cell_type": "code",
   "execution_count": null,
   "id": "f2f655c2",
   "metadata": {},
   "outputs": [],
   "source": [
    "internet_df=internet_df.rename(columns={'Country or Area':'Country', 'Value':'Internet_Users_Pct'})"
   ]
  },
  {
   "cell_type": "code",
   "execution_count": null,
   "id": "e3ff666e",
   "metadata": {},
   "outputs": [],
   "source": [
    "internet_df"
   ]
  },
  {
   "cell_type": "markdown",
   "id": "5f469619",
   "metadata": {},
   "source": [
    "QUESTION 16:Look at the number of observations in this dataset per year. What do you notice? "
   ]
  },
  {
   "cell_type": "code",
   "execution_count": null,
   "id": "554c2ad1",
   "metadata": {},
   "outputs": [],
   "source": [
    "internet_df['Internet_Users_Pct'].value_counts()"
   ]
  },
  {
   "cell_type": "markdown",
   "id": "5373a6fa",
   "metadata": {},
   "source": [
    "QUESTION 17:What is the first year to have a non-zero internet users percentage value? 2002"
   ]
  },
  {
   "cell_type": "code",
   "execution_count": null,
   "id": "299d41ad",
   "metadata": {},
   "outputs": [],
   "source": [
    "internet_df.loc[internet_df['Internet_Users_Pct']>= 1]"
   ]
  },
  {
   "cell_type": "markdown",
   "id": "f55beef3",
   "metadata": {},
   "source": [
    "QUESTION 18:How does the distribution of internet users percent differ for 2000 and 2014?Most 2000 percents are less than 1%, and most of the 2014 percents are significantly higher."
   ]
  },
  {
   "cell_type": "code",
   "execution_count": null,
   "id": "7d804cc1",
   "metadata": {},
   "outputs": [],
   "source": [
    "year_internet= internet_df.loc[(internet_df['Year']==2000) | (internet_df['Year']==2014)]"
   ]
  },
  {
   "cell_type": "code",
   "execution_count": null,
   "id": "99353c75",
   "metadata": {},
   "outputs": [],
   "source": [
    "year_internet"
   ]
  },
  {
   "cell_type": "markdown",
   "id": "f70278f1",
   "metadata": {},
   "source": [
    "QUESTION 19:For how many countries was the percentage of internet users below 5% in 2014?"
   ]
  },
  {
   "cell_type": "code",
   "execution_count": null,
   "id": "c44e8598",
   "metadata": {},
   "outputs": [],
   "source": [
    "internet_2014=internet_df.loc[(internet_df['Internet_Users_Pct']<5)&(internet_df['Year']==2014)]\n",
    "internet_2014.count()"
   ]
  },
  {
   "cell_type": "markdown",
   "id": "32ea099a",
   "metadata": {},
   "source": [
    "QUESTION 20:Merge the two DataFrames to one. Do this in a way that keeps all rows from each of the two DataFrames. Call the new DataFrame gdp_and_internet_use. Look at the first and last few rows to confirm that it merged correctly."
   ]
  },
  {
   "cell_type": "code",
   "execution_count": null,
   "id": "a604ee15",
   "metadata": {},
   "outputs": [],
   "source": [
    "gdp_and_internet_use = pd.merge(new_named_gdp, internet_df,\n",
    "                               left_on = ['Country', 'Year'], right_on = ['Country','Year'],\n",
    "                               how = 'outer')\n",
    "                               \n",
    "gdp_and_internet_use"
   ]
  },
  {
   "cell_type": "markdown",
   "id": "7facb3dc",
   "metadata": {},
   "source": [
    "QUESTION 21:Find the three countries with the highest internet users percentage in 2014. \n",
    "    Use a seaborn FacetGrid (https://seaborn.pydata.org/generated/seaborn.FacetGrid.html) \n",
    "    to compare how the GDP per capita has changed over time for these three countries. What do you notice?"
   ]
  },
  {
   "cell_type": "code",
   "execution_count": null,
   "id": "4b3b2a6c",
   "metadata": {
    "scrolled": true
   },
   "outputs": [],
   "source": [
    "gdp_and_internet_use_21 = gdp_and_internet_use.loc[gdp_and_internet_use['Year']==2014]\n",
    "gdp_and_internet_use_21.head()                                            "
   ]
  },
  {
   "cell_type": "code",
   "execution_count": null,
   "id": "318b6006",
   "metadata": {
    "scrolled": false
   },
   "outputs": [],
   "source": [
    "gdp_and_internet_use_21['Internet_Users_Pct'].nlargest(n=3)"
   ]
  },
  {
   "cell_type": "code",
   "execution_count": null,
   "id": "9a5385a7",
   "metadata": {},
   "outputs": [],
   "source": [
    "gdp_and_internet_users_21= gdp_and_internet_use_21.loc[(gdp_and_internet_use_21['Internet_Users_Pct']== 98.16)| (gdp_and_internet_use_21['Internet_Users_Pct']==96.80)| (gdp_and_internet_use_21['Internet_Users_Pct']==96.30)]"
   ]
  },
  {
   "cell_type": "code",
   "execution_count": null,
   "id": "6725361b",
   "metadata": {
    "scrolled": false
   },
   "outputs": [],
   "source": [
    "gdp_and_internet_users_21"
   ]
  },
  {
   "cell_type": "code",
   "execution_count": null,
   "id": "3c3a9133",
   "metadata": {},
   "outputs": [],
   "source": [
    "gdp_and_internet_use=gdp_and_internet_use.loc[(gdp_and_internet_use['Country']== 'Bermuda')| (gdp_and_internet_use['Country']=='Iceland')| (gdp_and_internet_use['Country']== 'Norway')]"
   ]
  },
  {
   "cell_type": "code",
   "execution_count": null,
   "id": "24e9048b",
   "metadata": {},
   "outputs": [],
   "source": [
    "gdp_and_internet_use"
   ]
  },
  {
   "cell_type": "code",
   "execution_count": null,
   "id": "9c774e54",
   "metadata": {},
   "outputs": [],
   "source": [
    "sns.regplot(x=gdp_and_internet_use['Year'], y=gdp_and_internet_use['GDP_Per_Capita'])"
   ]
  },
  {
   "cell_type": "markdown",
   "id": "6f2d38aa",
   "metadata": {},
   "source": [
    "QUESTION 22:Subset gdp_and_internet_use to just the year 2014. Save this as a new dataframe named gdp_and_internet_use_2014."
   ]
  },
  {
   "cell_type": "code",
   "execution_count": null,
   "id": "fc8f6baf",
   "metadata": {},
   "outputs": [],
   "source": [
    "gdp_and_internet_use_2014= gdp_and_internet_use.loc[gdp_and_internet_use['Year']== 2014]"
   ]
  },
  {
   "cell_type": "code",
   "execution_count": null,
   "id": "a9bcca2b",
   "metadata": {},
   "outputs": [],
   "source": [
    "gdp_and_internet_use_2014"
   ]
  },
  {
   "cell_type": "markdown",
   "id": "43787810",
   "metadata": {},
   "source": [
    "QUESTION 23:Create a plot which compares Internet Users Percentage and GDP per Capita for the year 2014. \n",
    "    What do you notice from this plot? If you see any unusual points, investigate them."
   ]
  },
  {
   "cell_type": "code",
   "execution_count": null,
   "id": "713cc29d",
   "metadata": {},
   "outputs": [],
   "source": [
    "sns.regplot(x=gdp_and_internet_use_2014['Internet_Users_Pct'], y=gdp_and_internet_use_2014['GDP_Per_Capita'])"
   ]
  },
  {
   "cell_type": "code",
   "execution_count": null,
   "id": "71413547",
   "metadata": {},
   "outputs": [],
   "source": []
  }
 ],
 "metadata": {
  "kernelspec": {
   "display_name": "Python 3 (ipykernel)",
   "language": "python",
   "name": "python3"
  },
  "language_info": {
   "codemirror_mode": {
    "name": "ipython",
    "version": 3
   },
   "file_extension": ".py",
   "mimetype": "text/x-python",
   "name": "python",
   "nbconvert_exporter": "python",
   "pygments_lexer": "ipython3",
   "version": "3.10.9"
  }
 },
 "nbformat": 4,
 "nbformat_minor": 5
}
