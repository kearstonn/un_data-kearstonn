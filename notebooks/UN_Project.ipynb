{
 "cells": [
  {
   "cell_type": "code",
   "execution_count": 1,
   "id": "e151e34b",
   "metadata": {},
   "outputs": [],
   "source": [
    "import pandas as pd\n",
    "import numpy as np\n",
    "import matplotlib.pyplot as plt\n",
    "import seaborn as sns"
   ]
  },
  {
   "cell_type": "code",
   "execution_count": 2,
   "id": "ea46fa34",
   "metadata": {},
   "outputs": [],
   "source": [
    "gdp_df = pd.read_csv(\"C:/Users/kears/NSS/Python/projects/un_data-kearstonn/data/gdp_percapita.csv\")"
   ]
  },
  {
   "cell_type": "markdown",
   "id": "6b29d196",
   "metadata": {},
   "source": [
    "QUESTION 5:How many rows and columns are in gdp_df? What are the data types of each column?"
   ]
  },
  {
   "cell_type": "code",
   "execution_count": 57,
   "id": "79b5c69d",
   "metadata": {
    "scrolled": true
   },
   "outputs": [
    {
     "data": {
      "text/plain": [
       "(7176, 4)"
      ]
     },
     "execution_count": 57,
     "metadata": {},
     "output_type": "execute_result"
    }
   ],
   "source": [
    "gdp_df.shape"
   ]
  },
  {
   "cell_type": "code",
   "execution_count": 4,
   "id": "ccc3ef96",
   "metadata": {},
   "outputs": [],
   "source": [
    "datatypes = gdp_df.dtypes"
   ]
  },
  {
   "cell_type": "code",
   "execution_count": 5,
   "id": "c6ef2cc4",
   "metadata": {},
   "outputs": [
    {
     "data": {
      "text/plain": [
       "Country or Area     object\n",
       "Year                 int64\n",
       "Value              float64\n",
       "Value Footnotes    float64\n",
       "dtype: object"
      ]
     },
     "execution_count": 5,
     "metadata": {},
     "output_type": "execute_result"
    }
   ],
   "source": [
    "datatypes"
   ]
  },
  {
   "cell_type": "markdown",
   "id": "b0064bb2",
   "metadata": {},
   "source": [
    "QUESTION 6:Drop the Value Footnotes column and rename the remaining three to 'Country', 'Year', and 'GDP_Per_Capita'."
   ]
  },
  {
   "cell_type": "code",
   "execution_count": 6,
   "id": "c2528c7d",
   "metadata": {},
   "outputs": [
    {
     "data": {
      "text/plain": [
       "Index(['Country or Area', 'Year', 'Value', 'Value Footnotes'], dtype='object')"
      ]
     },
     "execution_count": 6,
     "metadata": {},
     "output_type": "execute_result"
    }
   ],
   "source": [
    "gdp_df.columns"
   ]
  },
  {
   "cell_type": "code",
   "execution_count": 7,
   "id": "91fc30a1",
   "metadata": {},
   "outputs": [],
   "source": [
    "new_gdp= gdp_df.drop(columns = ['Value Footnotes'])"
   ]
  },
  {
   "cell_type": "code",
   "execution_count": 8,
   "id": "48f3693d",
   "metadata": {},
   "outputs": [],
   "source": [
    "new_named_gdp=new_gdp.rename(columns = {'Country or Area': 'Country', 'Value': 'GDP_Per_Capita'})"
   ]
  },
  {
   "cell_type": "code",
   "execution_count": 9,
   "id": "5296d53e",
   "metadata": {
    "collapsed": true
   },
   "outputs": [
    {
     "data": {
      "text/html": [
       "<div>\n",
       "<style scoped>\n",
       "    .dataframe tbody tr th:only-of-type {\n",
       "        vertical-align: middle;\n",
       "    }\n",
       "\n",
       "    .dataframe tbody tr th {\n",
       "        vertical-align: top;\n",
       "    }\n",
       "\n",
       "    .dataframe thead th {\n",
       "        text-align: right;\n",
       "    }\n",
       "</style>\n",
       "<table border=\"1\" class=\"dataframe\">\n",
       "  <thead>\n",
       "    <tr style=\"text-align: right;\">\n",
       "      <th></th>\n",
       "      <th>Country</th>\n",
       "      <th>Year</th>\n",
       "      <th>GDP_Per_Capita</th>\n",
       "    </tr>\n",
       "  </thead>\n",
       "  <tbody>\n",
       "    <tr>\n",
       "      <th>0</th>\n",
       "      <td>Afghanistan</td>\n",
       "      <td>2020</td>\n",
       "      <td>1970.560169</td>\n",
       "    </tr>\n",
       "    <tr>\n",
       "      <th>1</th>\n",
       "      <td>Afghanistan</td>\n",
       "      <td>2019</td>\n",
       "      <td>2065.036235</td>\n",
       "    </tr>\n",
       "    <tr>\n",
       "      <th>2</th>\n",
       "      <td>Afghanistan</td>\n",
       "      <td>2018</td>\n",
       "      <td>2033.804389</td>\n",
       "    </tr>\n",
       "    <tr>\n",
       "      <th>3</th>\n",
       "      <td>Afghanistan</td>\n",
       "      <td>2017</td>\n",
       "      <td>2058.400221</td>\n",
       "    </tr>\n",
       "    <tr>\n",
       "      <th>4</th>\n",
       "      <td>Afghanistan</td>\n",
       "      <td>2016</td>\n",
       "      <td>2057.067978</td>\n",
       "    </tr>\n",
       "    <tr>\n",
       "      <th>...</th>\n",
       "      <td>...</td>\n",
       "      <td>...</td>\n",
       "      <td>...</td>\n",
       "    </tr>\n",
       "    <tr>\n",
       "      <th>7171</th>\n",
       "      <td>Zimbabwe</td>\n",
       "      <td>1994</td>\n",
       "      <td>2603.927369</td>\n",
       "    </tr>\n",
       "    <tr>\n",
       "      <th>7172</th>\n",
       "      <td>Zimbabwe</td>\n",
       "      <td>1993</td>\n",
       "      <td>2420.092791</td>\n",
       "    </tr>\n",
       "    <tr>\n",
       "      <th>7173</th>\n",
       "      <td>Zimbabwe</td>\n",
       "      <td>1992</td>\n",
       "      <td>2437.152908</td>\n",
       "    </tr>\n",
       "    <tr>\n",
       "      <th>7174</th>\n",
       "      <td>Zimbabwe</td>\n",
       "      <td>1991</td>\n",
       "      <td>2733.696626</td>\n",
       "    </tr>\n",
       "    <tr>\n",
       "      <th>7175</th>\n",
       "      <td>Zimbabwe</td>\n",
       "      <td>1990</td>\n",
       "      <td>2652.129209</td>\n",
       "    </tr>\n",
       "  </tbody>\n",
       "</table>\n",
       "<p>7176 rows × 3 columns</p>\n",
       "</div>"
      ],
      "text/plain": [
       "          Country  Year  GDP_Per_Capita\n",
       "0     Afghanistan  2020     1970.560169\n",
       "1     Afghanistan  2019     2065.036235\n",
       "2     Afghanistan  2018     2033.804389\n",
       "3     Afghanistan  2017     2058.400221\n",
       "4     Afghanistan  2016     2057.067978\n",
       "...           ...   ...             ...\n",
       "7171     Zimbabwe  1994     2603.927369\n",
       "7172     Zimbabwe  1993     2420.092791\n",
       "7173     Zimbabwe  1992     2437.152908\n",
       "7174     Zimbabwe  1991     2733.696626\n",
       "7175     Zimbabwe  1990     2652.129209\n",
       "\n",
       "[7176 rows x 3 columns]"
      ]
     },
     "execution_count": 9,
     "metadata": {},
     "output_type": "execute_result"
    }
   ],
   "source": [
    "new_named_gdp"
   ]
  },
  {
   "cell_type": "markdown",
   "id": "5a2b4541",
   "metadata": {},
   "source": [
    "QUESTION 7:How many countries have data for all years? Which countries are missing many years of data? Look at the number of observations per year. What do you notice?"
   ]
  },
  {
   "cell_type": "markdown",
   "id": "7f3c2080",
   "metadata": {},
   "source": [
    "### 205 countries with data for all 31 years."
   ]
  },
  {
   "cell_type": "code",
   "execution_count": 10,
   "id": "73a0133f",
   "metadata": {},
   "outputs": [],
   "source": [
    "gdp_2= new_named_gdp['Country'].value_counts().to_frame().reset_index().rename(columns={'index':'country', 'Country':'total_count'})"
   ]
  },
  {
   "cell_type": "code",
   "execution_count": 11,
   "id": "fd360701",
   "metadata": {},
   "outputs": [
    {
     "data": {
      "text/html": [
       "<div>\n",
       "<style scoped>\n",
       "    .dataframe tbody tr th:only-of-type {\n",
       "        vertical-align: middle;\n",
       "    }\n",
       "\n",
       "    .dataframe tbody tr th {\n",
       "        vertical-align: top;\n",
       "    }\n",
       "\n",
       "    .dataframe thead th {\n",
       "        text-align: right;\n",
       "    }\n",
       "</style>\n",
       "<table border=\"1\" class=\"dataframe\">\n",
       "  <thead>\n",
       "    <tr style=\"text-align: right;\">\n",
       "      <th></th>\n",
       "      <th>country</th>\n",
       "      <th>total_count</th>\n",
       "    </tr>\n",
       "  </thead>\n",
       "  <tbody>\n",
       "    <tr>\n",
       "      <th>0</th>\n",
       "      <td>Least developed countries: UN classification</td>\n",
       "      <td>31</td>\n",
       "    </tr>\n",
       "    <tr>\n",
       "      <th>1</th>\n",
       "      <td>Niger</td>\n",
       "      <td>31</td>\n",
       "    </tr>\n",
       "    <tr>\n",
       "      <th>2</th>\n",
       "      <td>Middle East &amp; North Africa (IDA &amp; IBRD)</td>\n",
       "      <td>31</td>\n",
       "    </tr>\n",
       "    <tr>\n",
       "      <th>3</th>\n",
       "      <td>Middle income</td>\n",
       "      <td>31</td>\n",
       "    </tr>\n",
       "    <tr>\n",
       "      <th>4</th>\n",
       "      <td>Mongolia</td>\n",
       "      <td>31</td>\n",
       "    </tr>\n",
       "    <tr>\n",
       "      <th>...</th>\n",
       "      <td>...</td>\n",
       "      <td>...</td>\n",
       "    </tr>\n",
       "    <tr>\n",
       "      <th>200</th>\n",
       "      <td>IDA only</td>\n",
       "      <td>31</td>\n",
       "    </tr>\n",
       "    <tr>\n",
       "      <th>201</th>\n",
       "      <td>Fragile and conflict affected situations</td>\n",
       "      <td>31</td>\n",
       "    </tr>\n",
       "    <tr>\n",
       "      <th>202</th>\n",
       "      <td>Ireland</td>\n",
       "      <td>31</td>\n",
       "    </tr>\n",
       "    <tr>\n",
       "      <th>203</th>\n",
       "      <td>France</td>\n",
       "      <td>31</td>\n",
       "    </tr>\n",
       "    <tr>\n",
       "      <th>204</th>\n",
       "      <td>Italy</td>\n",
       "      <td>31</td>\n",
       "    </tr>\n",
       "  </tbody>\n",
       "</table>\n",
       "<p>205 rows × 2 columns</p>\n",
       "</div>"
      ],
      "text/plain": [
       "                                          country  total_count\n",
       "0    Least developed countries: UN classification           31\n",
       "1                                           Niger           31\n",
       "2         Middle East & North Africa (IDA & IBRD)           31\n",
       "3                                   Middle income           31\n",
       "4                                        Mongolia           31\n",
       "..                                            ...          ...\n",
       "200                                      IDA only           31\n",
       "201      Fragile and conflict affected situations           31\n",
       "202                                       Ireland           31\n",
       "203                                        France           31\n",
       "204                                         Italy           31\n",
       "\n",
       "[205 rows x 2 columns]"
      ]
     },
     "execution_count": 11,
     "metadata": {},
     "output_type": "execute_result"
    }
   ],
   "source": [
    "gdp_2.loc[gdp_2['total_count']== 31]"
   ]
  },
  {
   "cell_type": "markdown",
   "id": "5f261319",
   "metadata": {},
   "source": [
    "### 37 are missing data\n"
   ]
  },
  {
   "cell_type": "code",
   "execution_count": 58,
   "id": "4bc56ef4",
   "metadata": {
    "scrolled": true
   },
   "outputs": [
    {
     "data": {
      "text/plain": [
       "country        37\n",
       "total_count    37\n",
       "dtype: int64"
      ]
     },
     "execution_count": 58,
     "metadata": {},
     "output_type": "execute_result"
    }
   ],
   "source": [
    "gdp_2.loc[gdp_2['total_count'] != 31].count()"
   ]
  },
  {
   "cell_type": "code",
   "execution_count": 60,
   "id": "8b5aae4f",
   "metadata": {},
   "outputs": [],
   "source": [
    "gdp_year_data=new_named_gdp.Year.value_counts().to_frame().reset_index()"
   ]
  },
  {
   "cell_type": "markdown",
   "id": "f96e8cfe",
   "metadata": {},
   "source": [
    "QUESTION 8:In this question, you're going to create some plots to show the distribution of GDP per capita for the year 2020. Go to the Python Graph Gallery (https://www.python-graph-gallery.com/) and look at the different types of plots under the Distribution section. Create a histogram, a density plot, a boxplot, and a violin plot. What do you notice when you look at these plots? How do the plots compare and what information can you get out of one type that you can't necessarily get out of the others?"
   ]
  },
  {
   "cell_type": "code",
   "execution_count": 65,
   "id": "89202632",
   "metadata": {},
   "outputs": [
    {
     "data": {
      "text/html": [
       "<div>\n",
       "<style scoped>\n",
       "    .dataframe tbody tr th:only-of-type {\n",
       "        vertical-align: middle;\n",
       "    }\n",
       "\n",
       "    .dataframe tbody tr th {\n",
       "        vertical-align: top;\n",
       "    }\n",
       "\n",
       "    .dataframe thead th {\n",
       "        text-align: right;\n",
       "    }\n",
       "</style>\n",
       "<table border=\"1\" class=\"dataframe\">\n",
       "  <thead>\n",
       "    <tr style=\"text-align: right;\">\n",
       "      <th></th>\n",
       "      <th>Country</th>\n",
       "      <th>Year</th>\n",
       "      <th>GDP_Per_Capita</th>\n",
       "    </tr>\n",
       "  </thead>\n",
       "  <tbody>\n",
       "    <tr>\n",
       "      <th>0</th>\n",
       "      <td>Afghanistan</td>\n",
       "      <td>2020</td>\n",
       "      <td>1970.560169</td>\n",
       "    </tr>\n",
       "    <tr>\n",
       "      <th>19</th>\n",
       "      <td>Africa Eastern and Southern</td>\n",
       "      <td>2020</td>\n",
       "      <td>3491.978104</td>\n",
       "    </tr>\n",
       "    <tr>\n",
       "      <th>50</th>\n",
       "      <td>Africa Western and Central</td>\n",
       "      <td>2020</td>\n",
       "      <td>4021.293919</td>\n",
       "    </tr>\n",
       "    <tr>\n",
       "      <th>81</th>\n",
       "      <td>Albania</td>\n",
       "      <td>2020</td>\n",
       "      <td>13253.733337</td>\n",
       "    </tr>\n",
       "    <tr>\n",
       "      <th>112</th>\n",
       "      <td>Algeria</td>\n",
       "      <td>2020</td>\n",
       "      <td>10735.382539</td>\n",
       "    </tr>\n",
       "    <tr>\n",
       "      <th>...</th>\n",
       "      <td>...</td>\n",
       "      <td>...</td>\n",
       "      <td>...</td>\n",
       "    </tr>\n",
       "    <tr>\n",
       "      <th>7025</th>\n",
       "      <td>Vietnam</td>\n",
       "      <td>2020</td>\n",
       "      <td>10338.270543</td>\n",
       "    </tr>\n",
       "    <tr>\n",
       "      <th>7056</th>\n",
       "      <td>West Bank and Gaza</td>\n",
       "      <td>2020</td>\n",
       "      <td>5402.538773</td>\n",
       "    </tr>\n",
       "    <tr>\n",
       "      <th>7083</th>\n",
       "      <td>World</td>\n",
       "      <td>2020</td>\n",
       "      <td>16269.969854</td>\n",
       "    </tr>\n",
       "    <tr>\n",
       "      <th>7114</th>\n",
       "      <td>Zambia</td>\n",
       "      <td>2020</td>\n",
       "      <td>3277.816510</td>\n",
       "    </tr>\n",
       "    <tr>\n",
       "      <th>7145</th>\n",
       "      <td>Zimbabwe</td>\n",
       "      <td>2020</td>\n",
       "      <td>2134.555461</td>\n",
       "    </tr>\n",
       "  </tbody>\n",
       "</table>\n",
       "<p>240 rows × 3 columns</p>\n",
       "</div>"
      ],
      "text/plain": [
       "                          Country  Year  GDP_Per_Capita\n",
       "0                     Afghanistan  2020     1970.560169\n",
       "19    Africa Eastern and Southern  2020     3491.978104\n",
       "50     Africa Western and Central  2020     4021.293919\n",
       "81                        Albania  2020    13253.733337\n",
       "112                       Algeria  2020    10735.382539\n",
       "...                           ...   ...             ...\n",
       "7025                      Vietnam  2020    10338.270543\n",
       "7056           West Bank and Gaza  2020     5402.538773\n",
       "7083                        World  2020    16269.969854\n",
       "7114                       Zambia  2020     3277.816510\n",
       "7145                     Zimbabwe  2020     2134.555461\n",
       "\n",
       "[240 rows x 3 columns]"
      ]
     },
     "execution_count": 65,
     "metadata": {},
     "output_type": "execute_result"
    }
   ],
   "source": [
    "gdp_2020=new_named_gdp.loc[new_named_gdp.Year == 2020]\n",
    "gdp_2020"
   ]
  },
  {
   "cell_type": "code",
   "execution_count": 68,
   "id": "03b07529",
   "metadata": {},
   "outputs": [
    {
     "data": {
      "text/plain": [
       "array([[<Axes: title={'center': 'GDP_Per_Capita'}>]], dtype=object)"
      ]
     },
     "execution_count": 68,
     "metadata": {},
     "output_type": "execute_result"
    },
    {
     "data": {
      "image/png": "[encoded data removed]",
      "text/plain": [
       "<Figure size 640x480 with 1 Axes>"
      ]
     },
     "metadata": {},
     "output_type": "display_data"
    }
   ],
   "source": [
    "gdp_2020.hist('GDP_Per_Capita')"
   ]
  },
  {
   "cell_type": "code",
   "execution_count": 67,
   "id": "6affe518",
   "metadata": {},
   "outputs": [
    {
     "data": {
      "text/plain": [
       "<Axes: xlabel='GDP_Per_Capita', ylabel='Density'>"
      ]
     },
     "execution_count": 67,
     "metadata": {},
     "output_type": "execute_result"
    },
    {
     "data": {
      "image/png": "[encoded data removed]",
      "text/plain": [
       "<Figure size 640x480 with 1 Axes>"
      ]
     },
     "metadata": {},
     "output_type": "display_data"
    }
   ],
   "source": [
    "sns.kdeplot(gdp_2020['GDP_Per_Capita'])"
   ]
  },
  {
   "cell_type": "code",
   "execution_count": 71,
   "id": "85f74606",
   "metadata": {},
   "outputs": [
    {
     "data": {
      "text/plain": [
       "<Axes: >"
      ]
     },
     "execution_count": 71,
     "metadata": {},
     "output_type": "execute_result"
    },
    {
     "data": {
      "image/png": "[encoded data removed]",
      "text/plain": [
       "<Figure size 640x480 with 1 Axes>"
      ]
     },
     "metadata": {},
     "output_type": "display_data"
    }
   ],
   "source": [
    "gdp_2020.boxplot('GDP_Per_Capita')"
   ]
  },
  {
   "cell_type": "code",
   "execution_count": 70,
   "id": "043ec57e",
   "metadata": {},
   "outputs": [
    {
     "data": {
      "text/plain": [
       "<Axes: xlabel='Year', ylabel='GDP_Per_Capita'>"
      ]
     },
     "execution_count": 70,
     "metadata": {},
     "output_type": "execute_result"
    },
    {
     "data": {
      "image/png": "[encoded data removed]",
      "text/plain": [
       "<Figure size 640x480 with 1 Axes>"
      ]
     },
     "metadata": {},
     "output_type": "display_data"
    }
   ],
   "source": [
    "sns.violinplot(x= gdp_2020['Year'], y= gdp_2020['GDP_Per_Capita'])"
   ]
  },
  {
   "cell_type": "markdown",
   "id": "efc2dded",
   "metadata": {},
   "source": [
    "QUESTION 9:What was the median GDP per capita value in 2020?"
   ]
  },
  {
   "cell_type": "code",
   "execution_count": 72,
   "id": "5bf050f1",
   "metadata": {},
   "outputs": [],
   "source": [
    "gdp_2020=new_named_gdp.loc[new_named_gdp['Year']== 2020]"
   ]
  },
  {
   "cell_type": "code",
   "execution_count": 73,
   "id": "98a2e968",
   "metadata": {},
   "outputs": [
    {
     "name": "stdout",
     "output_type": "stream",
     "text": [
      "12908.9374056206\n"
     ]
    }
   ],
   "source": [
    "print(gdp_2020['GDP_Per_Capita'].median())"
   ]
  },
  {
   "cell_type": "markdown",
   "id": "a618c29e",
   "metadata": {},
   "source": [
    "QUESTION 10:For this question, you're going to create some visualizations to compare GDP per capita values for the years 1990, 2000, 2010, and 2020. Start by subsetting your data to just these 4 years into a new DataFrame named gdp_decades. Using this, create the following 4 plots."
   ]
  },
  {
   "cell_type": "code",
   "execution_count": 19,
   "id": "d12c724e",
   "metadata": {},
   "outputs": [],
   "source": [
    "gdp_decades = new_named_gdp.loc[(new_named_gdp['Year']== 1990) | (new_named_gdp['Year']== 2000) \n",
    "                                 | (new_named_gdp['Year']==2010) | (new_named_gdp['Year']==2020)]"
   ]
  },
  {
   "cell_type": "markdown",
   "id": "a05bdf56",
   "metadata": {},
   "source": [
    "Above and below get the same answer, just two different ways to do it."
   ]
  },
  {
   "cell_type": "code",
   "execution_count": 74,
   "id": "e110cf46",
   "metadata": {},
   "outputs": [],
   "source": [
    "gdp_decades= new_named_gdp.loc[new_named_gdp.Year.isin([1990,2000,2010,2020])]"
   ]
  },
  {
   "cell_type": "code",
   "execution_count": 75,
   "id": "c783b3b9",
   "metadata": {},
   "outputs": [
    {
     "data": {
      "text/html": [
       "<div>\n",
       "<style scoped>\n",
       "    .dataframe tbody tr th:only-of-type {\n",
       "        vertical-align: middle;\n",
       "    }\n",
       "\n",
       "    .dataframe tbody tr th {\n",
       "        vertical-align: top;\n",
       "    }\n",
       "\n",
       "    .dataframe thead th {\n",
       "        text-align: right;\n",
       "    }\n",
       "</style>\n",
       "<table border=\"1\" class=\"dataframe\">\n",
       "  <thead>\n",
       "    <tr style=\"text-align: right;\">\n",
       "      <th></th>\n",
       "      <th>Country</th>\n",
       "      <th>Year</th>\n",
       "      <th>GDP_Per_Capita</th>\n",
       "    </tr>\n",
       "  </thead>\n",
       "  <tbody>\n",
       "    <tr>\n",
       "      <th>0</th>\n",
       "      <td>Afghanistan</td>\n",
       "      <td>2020</td>\n",
       "      <td>1970.560169</td>\n",
       "    </tr>\n",
       "    <tr>\n",
       "      <th>10</th>\n",
       "      <td>Afghanistan</td>\n",
       "      <td>2010</td>\n",
       "      <td>1957.029070</td>\n",
       "    </tr>\n",
       "    <tr>\n",
       "      <th>19</th>\n",
       "      <td>Africa Eastern and Southern</td>\n",
       "      <td>2020</td>\n",
       "      <td>3491.978104</td>\n",
       "    </tr>\n",
       "    <tr>\n",
       "      <th>29</th>\n",
       "      <td>Africa Eastern and Southern</td>\n",
       "      <td>2010</td>\n",
       "      <td>3545.205203</td>\n",
       "    </tr>\n",
       "    <tr>\n",
       "      <th>39</th>\n",
       "      <td>Africa Eastern and Southern</td>\n",
       "      <td>2000</td>\n",
       "      <td>2915.472987</td>\n",
       "    </tr>\n",
       "    <tr>\n",
       "      <th>...</th>\n",
       "      <td>...</td>\n",
       "      <td>...</td>\n",
       "      <td>...</td>\n",
       "    </tr>\n",
       "    <tr>\n",
       "      <th>7144</th>\n",
       "      <td>Zambia</td>\n",
       "      <td>1990</td>\n",
       "      <td>2190.181724</td>\n",
       "    </tr>\n",
       "    <tr>\n",
       "      <th>7145</th>\n",
       "      <td>Zimbabwe</td>\n",
       "      <td>2020</td>\n",
       "      <td>2134.555461</td>\n",
       "    </tr>\n",
       "    <tr>\n",
       "      <th>7155</th>\n",
       "      <td>Zimbabwe</td>\n",
       "      <td>2010</td>\n",
       "      <td>1813.531764</td>\n",
       "    </tr>\n",
       "    <tr>\n",
       "      <th>7165</th>\n",
       "      <td>Zimbabwe</td>\n",
       "      <td>2000</td>\n",
       "      <td>2771.060576</td>\n",
       "    </tr>\n",
       "    <tr>\n",
       "      <th>7175</th>\n",
       "      <td>Zimbabwe</td>\n",
       "      <td>1990</td>\n",
       "      <td>2652.129209</td>\n",
       "    </tr>\n",
       "  </tbody>\n",
       "</table>\n",
       "<p>918 rows × 3 columns</p>\n",
       "</div>"
      ],
      "text/plain": [
       "                          Country  Year  GDP_Per_Capita\n",
       "0                     Afghanistan  2020     1970.560169\n",
       "10                    Afghanistan  2010     1957.029070\n",
       "19    Africa Eastern and Southern  2020     3491.978104\n",
       "29    Africa Eastern and Southern  2010     3545.205203\n",
       "39    Africa Eastern and Southern  2000     2915.472987\n",
       "...                           ...   ...             ...\n",
       "7144                       Zambia  1990     2190.181724\n",
       "7145                     Zimbabwe  2020     2134.555461\n",
       "7155                     Zimbabwe  2010     1813.531764\n",
       "7165                     Zimbabwe  2000     2771.060576\n",
       "7175                     Zimbabwe  1990     2652.129209\n",
       "\n",
       "[918 rows x 3 columns]"
      ]
     },
     "execution_count": 75,
     "metadata": {},
     "output_type": "execute_result"
    }
   ],
   "source": [
    "gdp_decades"
   ]
  },
  {
   "cell_type": "code",
   "execution_count": 20,
   "id": "5277475f",
   "metadata": {},
   "outputs": [
    {
     "data": {
      "text/plain": [
       "<Axes: xlabel='Year', ylabel='GDP_Per_Capita'>"
      ]
     },
     "execution_count": 20,
     "metadata": {},
     "output_type": "execute_result"
    },
    {
     "data": {
      "image/png": "[encoded data removed]",
      "text/plain": [
       "<Figure size 640x480 with 1 Axes>"
      ]
     },
     "metadata": {},
     "output_type": "display_data"
    }
   ],
   "source": [
    "sns.boxplot(x=gdp_decades['Year'], y=gdp_decades['GDP_Per_Capita'])"
   ]
  },
  {
   "cell_type": "code",
   "execution_count": 21,
   "id": "1b0d8f46",
   "metadata": {},
   "outputs": [
    {
     "data": {
      "text/plain": [
       "<Axes: xlabel='Year', ylabel='GDP_Per_Capita'>"
      ]
     },
     "execution_count": 21,
     "metadata": {},
     "output_type": "execute_result"
    },
    {
     "data": {
      "image/png": "[encoded data removed]",
      "text/plain": [
       "<Figure size 640x480 with 1 Axes>"
      ]
     },
     "metadata": {},
     "output_type": "display_data"
    }
   ],
   "source": [
    "sns.barplot(x=gdp_decades['Year'], y=gdp_decades['GDP_Per_Capita'])"
   ]
  },
  {
   "cell_type": "markdown",
   "id": "59ef24f0",
   "metadata": {},
   "source": [
    "### Can also do the graph above like code below"
   ]
  },
  {
   "cell_type": "code",
   "execution_count": 76,
   "id": "4f98659e",
   "metadata": {},
   "outputs": [
    {
     "data": {
      "text/plain": [
       "<Axes: xlabel='Year', ylabel='GDP_Per_Capita'>"
      ]
     },
     "execution_count": 76,
     "metadata": {},
     "output_type": "execute_result"
    },
    {
     "data": {
      "image/png": "[encoded data removed]",
      "text/plain": [
       "<Figure size 640x480 with 1 Axes>"
      ]
     },
     "metadata": {},
     "output_type": "display_data"
    }
   ],
   "source": [
    "sns.barplot(x='Year', y='GDP_Per_Capita', data= gdp_decades)"
   ]
  },
  {
   "cell_type": "code",
   "execution_count": 22,
   "id": "1f7c3d17",
   "metadata": {},
   "outputs": [
    {
     "data": {
      "text/plain": [
       "<Axes: xlabel='Year', ylabel='GDP_Per_Capita'>"
      ]
     },
     "execution_count": 22,
     "metadata": {},
     "output_type": "execute_result"
    },
    {
     "data": {
      "image/png": "[encoded data removed]",
      "text/plain": [
       "<Figure size 640x480 with 1 Axes>"
      ]
     },
     "metadata": {},
     "output_type": "display_data"
    }
   ],
   "source": [
    "sns.regplot(x=gdp_decades['Year'], y=gdp_decades['GDP_Per_Capita'])"
   ]
  },
  {
   "cell_type": "code",
   "execution_count": 23,
   "id": "4512a2cf",
   "metadata": {},
   "outputs": [
    {
     "data": {
      "image/png": "[encoded data removed]",
      "text/plain": [
       "<Figure size 640x480 with 1 Axes>"
      ]
     },
     "metadata": {},
     "output_type": "display_data"
    }
   ],
   "source": [
    "sns.regplot(x=gdp_decades['Year'], y=gdp_decades['GDP_Per_Capita'], line_kws={'color':'r', 'alpha': 0.7, 'lw': 5})\n",
    "plt.show()"
   ]
  },
  {
   "cell_type": "markdown",
   "id": "5e61957d",
   "metadata": {},
   "source": [
    "QUESTION 11:Which country was the first to have a GDP per capita greater than $100,000?\n",
    "United Arab Emirates 1990"
   ]
  },
  {
   "cell_type": "code",
   "execution_count": 78,
   "id": "b710a189",
   "metadata": {},
   "outputs": [
    {
     "data": {
      "text/html": [
       "<div>\n",
       "<style scoped>\n",
       "    .dataframe tbody tr th:only-of-type {\n",
       "        vertical-align: middle;\n",
       "    }\n",
       "\n",
       "    .dataframe tbody tr th {\n",
       "        vertical-align: top;\n",
       "    }\n",
       "\n",
       "    .dataframe thead th {\n",
       "        text-align: right;\n",
       "    }\n",
       "</style>\n",
       "<table border=\"1\" class=\"dataframe\">\n",
       "  <thead>\n",
       "    <tr style=\"text-align: right;\">\n",
       "      <th></th>\n",
       "      <th>Country</th>\n",
       "      <th>Year</th>\n",
       "      <th>GDP_Per_Capita</th>\n",
       "    </tr>\n",
       "  </thead>\n",
       "  <tbody>\n",
       "    <tr>\n",
       "      <th>6838</th>\n",
       "      <td>United Arab Emirates</td>\n",
       "      <td>1990</td>\n",
       "      <td>111454.055665</td>\n",
       "    </tr>\n",
       "  </tbody>\n",
       "</table>\n",
       "</div>"
      ],
      "text/plain": [
       "                   Country  Year  GDP_Per_Capita\n",
       "6838  United Arab Emirates  1990   111454.055665"
      ]
     },
     "execution_count": 78,
     "metadata": {},
     "output_type": "execute_result"
    }
   ],
   "source": [
    "new_named_gdp.loc[new_named_gdp['GDP_Per_Capita']> 100000] .sort_values('Year').head(1)"
   ]
  },
  {
   "cell_type": "markdown",
   "id": "83e9f494",
   "metadata": {},
   "source": [
    "QUESTION 12:Which country had the highest GDP per capita in 2020? Create a plot showing how this country's GDP per capita has changed over the timespan of the dataset.Luxembourg"
   ]
  },
  {
   "cell_type": "code",
   "execution_count": 25,
   "id": "db1d38ae",
   "metadata": {},
   "outputs": [],
   "source": [
    "gdp_2020=new_named_gdp.loc[new_named_gdp['Year']== 2020]"
   ]
  },
  {
   "cell_type": "code",
   "execution_count": 80,
   "id": "8d008613",
   "metadata": {},
   "outputs": [
    {
     "data": {
      "text/plain": [
       "['Luxembourg']"
      ]
     },
     "execution_count": 80,
     "metadata": {},
     "output_type": "execute_result"
    }
   ],
   "source": [
    "gdp_2020.sort_values('GDP_Per_Capita', ascending = False).head(1).Country.to_list()"
   ]
  },
  {
   "cell_type": "code",
   "execution_count": 81,
   "id": "5937a510",
   "metadata": {},
   "outputs": [],
   "source": [
    "luxembourg_gdp= new_named_gdp.loc[new_named_gdp['Country']== 'Luxembourg']"
   ]
  },
  {
   "cell_type": "code",
   "execution_count": 82,
   "id": "2edf6f0c",
   "metadata": {},
   "outputs": [
    {
     "data": {
      "text/plain": [
       "<Axes: xlabel='Year', ylabel='GDP_Per_Capita'>"
      ]
     },
     "execution_count": 82,
     "metadata": {},
     "output_type": "execute_result"
    },
    {
     "data": {
      "image/png": "[encoded data removed]",
      "text/plain": [
       "<Figure size 640x480 with 1 Axes>"
      ]
     },
     "metadata": {},
     "output_type": "display_data"
    }
   ],
   "source": [
    "sns.regplot(x=luxembourg_gdp['Year'], y=luxembourg_gdp['GDP_Per_Capita'])"
   ]
  },
  {
   "cell_type": "markdown",
   "id": "3a528958",
   "metadata": {},
   "source": [
    "QUESTION 13:Which country had the lowest GDP per capita in 2020? ~ Burundi\n",
    "    Create a plot showing how this country's GDP per capita has changed over the timespan of the dataset. \n",
    "    Bonus question: Is it true in general that coutries had a higher GDP per capita in 2020 than in 1990? \n",
    "        Which countries had lower GDP per capita in 2020 than in 1990?"
   ]
  },
  {
   "cell_type": "code",
   "execution_count": 83,
   "id": "110314fe",
   "metadata": {},
   "outputs": [
    {
     "data": {
      "text/plain": [
       "['Burundi']"
      ]
     },
     "execution_count": 83,
     "metadata": {},
     "output_type": "execute_result"
    }
   ],
   "source": [
    "gdp_2020.sort_values('GDP_Per_Capita', ascending = True).head(1).Country.to_list()"
   ]
  },
  {
   "cell_type": "markdown",
   "id": "fe8b9a9d",
   "metadata": {},
   "source": [
    "### 2 different ways to get the answer"
   ]
  },
  {
   "cell_type": "code",
   "execution_count": 29,
   "id": "3322b570",
   "metadata": {},
   "outputs": [],
   "source": [
    "gdp_2020=new_named_gdp.loc[new_named_gdp['Year']== 2020]"
   ]
  },
  {
   "cell_type": "code",
   "execution_count": 30,
   "id": "63a2ab01",
   "metadata": {},
   "outputs": [
    {
     "data": {
      "text/html": [
       "<div>\n",
       "<style scoped>\n",
       "    .dataframe tbody tr th:only-of-type {\n",
       "        vertical-align: middle;\n",
       "    }\n",
       "\n",
       "    .dataframe tbody tr th {\n",
       "        vertical-align: top;\n",
       "    }\n",
       "\n",
       "    .dataframe thead th {\n",
       "        text-align: right;\n",
       "    }\n",
       "</style>\n",
       "<table border=\"1\" class=\"dataframe\">\n",
       "  <thead>\n",
       "    <tr style=\"text-align: right;\">\n",
       "      <th></th>\n",
       "      <th>Country</th>\n",
       "      <th>Year</th>\n",
       "      <th>GDP_Per_Capita</th>\n",
       "    </tr>\n",
       "  </thead>\n",
       "  <tbody>\n",
       "    <tr>\n",
       "      <th>914</th>\n",
       "      <td>Burundi</td>\n",
       "      <td>2020</td>\n",
       "      <td>731.064074</td>\n",
       "    </tr>\n",
       "    <tr>\n",
       "      <th>1136</th>\n",
       "      <td>Central African Republic</td>\n",
       "      <td>2020</td>\n",
       "      <td>937.856470</td>\n",
       "    </tr>\n",
       "  </tbody>\n",
       "</table>\n",
       "</div>"
      ],
      "text/plain": [
       "                       Country  Year  GDP_Per_Capita\n",
       "914                    Burundi  2020      731.064074\n",
       "1136  Central African Republic  2020      937.856470"
      ]
     },
     "execution_count": 30,
     "metadata": {},
     "output_type": "execute_result"
    }
   ],
   "source": [
    "gdp_2020.loc[gdp_2020['GDP_Per_Capita'] < 1000]"
   ]
  },
  {
   "cell_type": "code",
   "execution_count": 31,
   "id": "15c354d1",
   "metadata": {},
   "outputs": [
    {
     "data": {
      "text/plain": [
       "731.064073644609"
      ]
     },
     "execution_count": 31,
     "metadata": {},
     "output_type": "execute_result"
    }
   ],
   "source": [
    "min(gdp_2020['GDP_Per_Capita'])"
   ]
  },
  {
   "cell_type": "code",
   "execution_count": 32,
   "id": "04e52b4a",
   "metadata": {},
   "outputs": [],
   "source": [
    "burundi_gdp= new_named_gdp.loc[new_named_gdp['Country']== 'Burundi']"
   ]
  },
  {
   "cell_type": "code",
   "execution_count": 33,
   "id": "b047403b",
   "metadata": {},
   "outputs": [
    {
     "data": {
      "text/plain": [
       "<Axes: xlabel='Year', ylabel='GDP_Per_Capita'>"
      ]
     },
     "execution_count": 33,
     "metadata": {},
     "output_type": "execute_result"
    },
    {
     "data": {
      "image/png": "[encoded data removed]",
      "text/plain": [
       "<Figure size 640x480 with 1 Axes>"
      ]
     },
     "metadata": {},
     "output_type": "display_data"
    }
   ],
   "source": [
    "sns.regplot(x=burundi_gdp['Year'], y=burundi_gdp['GDP_Per_Capita'])"
   ]
  },
  {
   "cell_type": "markdown",
   "id": "0ce923bb",
   "metadata": {},
   "source": [
    "QUESTION 14:Read in the internet use dataset into a DataFrame named internet_df. \n",
    "    You will likely get errors when doing this. \n",
    "    Check the arguments for the read_csv function to find ones that can help correct the errors \n",
    "    (https://pandas.pydata.org/docs/reference/api/pandas.read_csv.html) \n",
    "    Once you are able to read it in, take per a look at the top and bottom few rows to make sure that it has been \n",
    "    read in correctly. Also, check the datatypes of the columns."
   ]
  },
  {
   "cell_type": "code",
   "execution_count": 34,
   "id": "25b0e01a",
   "metadata": {},
   "outputs": [],
   "source": [
    "internet_df = pd.read_csv(\"C:/Users/kears/NSS/Python/projects/un_data-kearstonn/data/internet_use.csv\",nrows=4495)"
   ]
  },
  {
   "cell_type": "code",
   "execution_count": 35,
   "id": "850f657b",
   "metadata": {},
   "outputs": [
    {
     "data": {
      "text/html": [
       "<div>\n",
       "<style scoped>\n",
       "    .dataframe tbody tr th:only-of-type {\n",
       "        vertical-align: middle;\n",
       "    }\n",
       "\n",
       "    .dataframe tbody tr th {\n",
       "        vertical-align: top;\n",
       "    }\n",
       "\n",
       "    .dataframe thead th {\n",
       "        text-align: right;\n",
       "    }\n",
       "</style>\n",
       "<table border=\"1\" class=\"dataframe\">\n",
       "  <thead>\n",
       "    <tr style=\"text-align: right;\">\n",
       "      <th></th>\n",
       "      <th>Country or Area</th>\n",
       "      <th>Year</th>\n",
       "      <th>Value</th>\n",
       "      <th>Value Footnotes</th>\n",
       "    </tr>\n",
       "  </thead>\n",
       "  <tbody>\n",
       "    <tr>\n",
       "      <th>0</th>\n",
       "      <td>Afghanistan</td>\n",
       "      <td>2014</td>\n",
       "      <td>6.390000</td>\n",
       "      <td>NaN</td>\n",
       "    </tr>\n",
       "    <tr>\n",
       "      <th>1</th>\n",
       "      <td>Afghanistan</td>\n",
       "      <td>2013</td>\n",
       "      <td>5.900000</td>\n",
       "      <td>NaN</td>\n",
       "    </tr>\n",
       "    <tr>\n",
       "      <th>2</th>\n",
       "      <td>Afghanistan</td>\n",
       "      <td>2012</td>\n",
       "      <td>5.454545</td>\n",
       "      <td>NaN</td>\n",
       "    </tr>\n",
       "    <tr>\n",
       "      <th>3</th>\n",
       "      <td>Afghanistan</td>\n",
       "      <td>2011</td>\n",
       "      <td>5.000000</td>\n",
       "      <td>NaN</td>\n",
       "    </tr>\n",
       "    <tr>\n",
       "      <th>4</th>\n",
       "      <td>Afghanistan</td>\n",
       "      <td>2010</td>\n",
       "      <td>4.000000</td>\n",
       "      <td>NaN</td>\n",
       "    </tr>\n",
       "    <tr>\n",
       "      <th>...</th>\n",
       "      <td>...</td>\n",
       "      <td>...</td>\n",
       "      <td>...</td>\n",
       "      <td>...</td>\n",
       "    </tr>\n",
       "    <tr>\n",
       "      <th>4490</th>\n",
       "      <td>Zimbabwe</td>\n",
       "      <td>1997</td>\n",
       "      <td>0.033080</td>\n",
       "      <td>NaN</td>\n",
       "    </tr>\n",
       "    <tr>\n",
       "      <th>4491</th>\n",
       "      <td>Zimbabwe</td>\n",
       "      <td>1996</td>\n",
       "      <td>0.016790</td>\n",
       "      <td>NaN</td>\n",
       "    </tr>\n",
       "    <tr>\n",
       "      <th>4492</th>\n",
       "      <td>Zimbabwe</td>\n",
       "      <td>1995</td>\n",
       "      <td>0.007684</td>\n",
       "      <td>NaN</td>\n",
       "    </tr>\n",
       "    <tr>\n",
       "      <th>4493</th>\n",
       "      <td>Zimbabwe</td>\n",
       "      <td>1994</td>\n",
       "      <td>0.001739</td>\n",
       "      <td>NaN</td>\n",
       "    </tr>\n",
       "    <tr>\n",
       "      <th>4494</th>\n",
       "      <td>Zimbabwe</td>\n",
       "      <td>1990</td>\n",
       "      <td>0.000000</td>\n",
       "      <td>NaN</td>\n",
       "    </tr>\n",
       "  </tbody>\n",
       "</table>\n",
       "<p>4495 rows × 4 columns</p>\n",
       "</div>"
      ],
      "text/plain": [
       "     Country or Area  Year     Value  Value Footnotes\n",
       "0        Afghanistan  2014  6.390000              NaN\n",
       "1        Afghanistan  2013  5.900000              NaN\n",
       "2        Afghanistan  2012  5.454545              NaN\n",
       "3        Afghanistan  2011  5.000000              NaN\n",
       "4        Afghanistan  2010  4.000000              NaN\n",
       "...              ...   ...       ...              ...\n",
       "4490        Zimbabwe  1997  0.033080              NaN\n",
       "4491        Zimbabwe  1996  0.016790              NaN\n",
       "4492        Zimbabwe  1995  0.007684              NaN\n",
       "4493        Zimbabwe  1994  0.001739              NaN\n",
       "4494        Zimbabwe  1990  0.000000              NaN\n",
       "\n",
       "[4495 rows x 4 columns]"
      ]
     },
     "execution_count": 35,
     "metadata": {},
     "output_type": "execute_result"
    }
   ],
   "source": [
    "internet_df"
   ]
  },
  {
   "cell_type": "markdown",
   "id": "08dfef59",
   "metadata": {},
   "source": [
    "QUESTION 15:Drop the Value Footnotes column and rename the remaining three to \n",
    "    'Country', 'Year', and 'Internet_Users_Pct'."
   ]
  },
  {
   "cell_type": "code",
   "execution_count": 36,
   "id": "8b8426c6",
   "metadata": {},
   "outputs": [
    {
     "data": {
      "text/plain": [
       "Country or Area     object\n",
       "Year                 int64\n",
       "Value              float64\n",
       "Value Footnotes    float64\n",
       "dtype: object"
      ]
     },
     "execution_count": 36,
     "metadata": {},
     "output_type": "execute_result"
    }
   ],
   "source": [
    "internet_df.dtypes"
   ]
  },
  {
   "cell_type": "code",
   "execution_count": 37,
   "id": "b4d57adc",
   "metadata": {},
   "outputs": [],
   "source": [
    "internet_df= internet_df.drop(columns = ['Value Footnotes'])"
   ]
  },
  {
   "cell_type": "code",
   "execution_count": 38,
   "id": "f858c8c2",
   "metadata": {},
   "outputs": [
    {
     "data": {
      "text/html": [
       "<div>\n",
       "<style scoped>\n",
       "    .dataframe tbody tr th:only-of-type {\n",
       "        vertical-align: middle;\n",
       "    }\n",
       "\n",
       "    .dataframe tbody tr th {\n",
       "        vertical-align: top;\n",
       "    }\n",
       "\n",
       "    .dataframe thead th {\n",
       "        text-align: right;\n",
       "    }\n",
       "</style>\n",
       "<table border=\"1\" class=\"dataframe\">\n",
       "  <thead>\n",
       "    <tr style=\"text-align: right;\">\n",
       "      <th></th>\n",
       "      <th>Country or Area</th>\n",
       "      <th>Year</th>\n",
       "      <th>Value</th>\n",
       "    </tr>\n",
       "  </thead>\n",
       "  <tbody>\n",
       "    <tr>\n",
       "      <th>0</th>\n",
       "      <td>Afghanistan</td>\n",
       "      <td>2014</td>\n",
       "      <td>6.390000</td>\n",
       "    </tr>\n",
       "    <tr>\n",
       "      <th>1</th>\n",
       "      <td>Afghanistan</td>\n",
       "      <td>2013</td>\n",
       "      <td>5.900000</td>\n",
       "    </tr>\n",
       "    <tr>\n",
       "      <th>2</th>\n",
       "      <td>Afghanistan</td>\n",
       "      <td>2012</td>\n",
       "      <td>5.454545</td>\n",
       "    </tr>\n",
       "    <tr>\n",
       "      <th>3</th>\n",
       "      <td>Afghanistan</td>\n",
       "      <td>2011</td>\n",
       "      <td>5.000000</td>\n",
       "    </tr>\n",
       "    <tr>\n",
       "      <th>4</th>\n",
       "      <td>Afghanistan</td>\n",
       "      <td>2010</td>\n",
       "      <td>4.000000</td>\n",
       "    </tr>\n",
       "    <tr>\n",
       "      <th>...</th>\n",
       "      <td>...</td>\n",
       "      <td>...</td>\n",
       "      <td>...</td>\n",
       "    </tr>\n",
       "    <tr>\n",
       "      <th>4490</th>\n",
       "      <td>Zimbabwe</td>\n",
       "      <td>1997</td>\n",
       "      <td>0.033080</td>\n",
       "    </tr>\n",
       "    <tr>\n",
       "      <th>4491</th>\n",
       "      <td>Zimbabwe</td>\n",
       "      <td>1996</td>\n",
       "      <td>0.016790</td>\n",
       "    </tr>\n",
       "    <tr>\n",
       "      <th>4492</th>\n",
       "      <td>Zimbabwe</td>\n",
       "      <td>1995</td>\n",
       "      <td>0.007684</td>\n",
       "    </tr>\n",
       "    <tr>\n",
       "      <th>4493</th>\n",
       "      <td>Zimbabwe</td>\n",
       "      <td>1994</td>\n",
       "      <td>0.001739</td>\n",
       "    </tr>\n",
       "    <tr>\n",
       "      <th>4494</th>\n",
       "      <td>Zimbabwe</td>\n",
       "      <td>1990</td>\n",
       "      <td>0.000000</td>\n",
       "    </tr>\n",
       "  </tbody>\n",
       "</table>\n",
       "<p>4495 rows × 3 columns</p>\n",
       "</div>"
      ],
      "text/plain": [
       "     Country or Area  Year     Value\n",
       "0        Afghanistan  2014  6.390000\n",
       "1        Afghanistan  2013  5.900000\n",
       "2        Afghanistan  2012  5.454545\n",
       "3        Afghanistan  2011  5.000000\n",
       "4        Afghanistan  2010  4.000000\n",
       "...              ...   ...       ...\n",
       "4490        Zimbabwe  1997  0.033080\n",
       "4491        Zimbabwe  1996  0.016790\n",
       "4492        Zimbabwe  1995  0.007684\n",
       "4493        Zimbabwe  1994  0.001739\n",
       "4494        Zimbabwe  1990  0.000000\n",
       "\n",
       "[4495 rows x 3 columns]"
      ]
     },
     "execution_count": 38,
     "metadata": {},
     "output_type": "execute_result"
    }
   ],
   "source": [
    "internet_df"
   ]
  },
  {
   "cell_type": "code",
   "execution_count": 39,
   "id": "f2f655c2",
   "metadata": {},
   "outputs": [],
   "source": [
    "internet_df=internet_df.rename(columns={'Country or Area':'Country', 'Value':'Internet_Users_Pct'})"
   ]
  },
  {
   "cell_type": "code",
   "execution_count": 40,
   "id": "e3ff666e",
   "metadata": {},
   "outputs": [
    {
     "data": {
      "text/html": [
       "<div>\n",
       "<style scoped>\n",
       "    .dataframe tbody tr th:only-of-type {\n",
       "        vertical-align: middle;\n",
       "    }\n",
       "\n",
       "    .dataframe tbody tr th {\n",
       "        vertical-align: top;\n",
       "    }\n",
       "\n",
       "    .dataframe thead th {\n",
       "        text-align: right;\n",
       "    }\n",
       "</style>\n",
       "<table border=\"1\" class=\"dataframe\">\n",
       "  <thead>\n",
       "    <tr style=\"text-align: right;\">\n",
       "      <th></th>\n",
       "      <th>Country</th>\n",
       "      <th>Year</th>\n",
       "      <th>Internet_Users_Pct</th>\n",
       "    </tr>\n",
       "  </thead>\n",
       "  <tbody>\n",
       "    <tr>\n",
       "      <th>0</th>\n",
       "      <td>Afghanistan</td>\n",
       "      <td>2014</td>\n",
       "      <td>6.390000</td>\n",
       "    </tr>\n",
       "    <tr>\n",
       "      <th>1</th>\n",
       "      <td>Afghanistan</td>\n",
       "      <td>2013</td>\n",
       "      <td>5.900000</td>\n",
       "    </tr>\n",
       "    <tr>\n",
       "      <th>2</th>\n",
       "      <td>Afghanistan</td>\n",
       "      <td>2012</td>\n",
       "      <td>5.454545</td>\n",
       "    </tr>\n",
       "    <tr>\n",
       "      <th>3</th>\n",
       "      <td>Afghanistan</td>\n",
       "      <td>2011</td>\n",
       "      <td>5.000000</td>\n",
       "    </tr>\n",
       "    <tr>\n",
       "      <th>4</th>\n",
       "      <td>Afghanistan</td>\n",
       "      <td>2010</td>\n",
       "      <td>4.000000</td>\n",
       "    </tr>\n",
       "    <tr>\n",
       "      <th>...</th>\n",
       "      <td>...</td>\n",
       "      <td>...</td>\n",
       "      <td>...</td>\n",
       "    </tr>\n",
       "    <tr>\n",
       "      <th>4490</th>\n",
       "      <td>Zimbabwe</td>\n",
       "      <td>1997</td>\n",
       "      <td>0.033080</td>\n",
       "    </tr>\n",
       "    <tr>\n",
       "      <th>4491</th>\n",
       "      <td>Zimbabwe</td>\n",
       "      <td>1996</td>\n",
       "      <td>0.016790</td>\n",
       "    </tr>\n",
       "    <tr>\n",
       "      <th>4492</th>\n",
       "      <td>Zimbabwe</td>\n",
       "      <td>1995</td>\n",
       "      <td>0.007684</td>\n",
       "    </tr>\n",
       "    <tr>\n",
       "      <th>4493</th>\n",
       "      <td>Zimbabwe</td>\n",
       "      <td>1994</td>\n",
       "      <td>0.001739</td>\n",
       "    </tr>\n",
       "    <tr>\n",
       "      <th>4494</th>\n",
       "      <td>Zimbabwe</td>\n",
       "      <td>1990</td>\n",
       "      <td>0.000000</td>\n",
       "    </tr>\n",
       "  </tbody>\n",
       "</table>\n",
       "<p>4495 rows × 3 columns</p>\n",
       "</div>"
      ],
      "text/plain": [
       "          Country  Year  Internet_Users_Pct\n",
       "0     Afghanistan  2014            6.390000\n",
       "1     Afghanistan  2013            5.900000\n",
       "2     Afghanistan  2012            5.454545\n",
       "3     Afghanistan  2011            5.000000\n",
       "4     Afghanistan  2010            4.000000\n",
       "...           ...   ...                 ...\n",
       "4490     Zimbabwe  1997            0.033080\n",
       "4491     Zimbabwe  1996            0.016790\n",
       "4492     Zimbabwe  1995            0.007684\n",
       "4493     Zimbabwe  1994            0.001739\n",
       "4494     Zimbabwe  1990            0.000000\n",
       "\n",
       "[4495 rows x 3 columns]"
      ]
     },
     "execution_count": 40,
     "metadata": {},
     "output_type": "execute_result"
    }
   ],
   "source": [
    "internet_df"
   ]
  },
  {
   "cell_type": "markdown",
   "id": "5f469619",
   "metadata": {},
   "source": [
    "QUESTION 16:Look at the number of observations in this dataset per year. What do you notice? "
   ]
  },
  {
   "cell_type": "code",
   "execution_count": 85,
   "id": "554c2ad1",
   "metadata": {},
   "outputs": [],
   "source": [
    "internet_years=internet_df.Year.value_counts().to_frame().reset_index()"
   ]
  },
  {
   "cell_type": "code",
   "execution_count": 86,
   "id": "0e5cf0dd",
   "metadata": {},
   "outputs": [],
   "source": [
    "internet_years.columns= ['Year', 'Count']"
   ]
  },
  {
   "cell_type": "code",
   "execution_count": 87,
   "id": "88263863",
   "metadata": {},
   "outputs": [
    {
     "data": {
      "text/html": [
       "<div>\n",
       "<style scoped>\n",
       "    .dataframe tbody tr th:only-of-type {\n",
       "        vertical-align: middle;\n",
       "    }\n",
       "\n",
       "    .dataframe tbody tr th {\n",
       "        vertical-align: top;\n",
       "    }\n",
       "\n",
       "    .dataframe thead th {\n",
       "        text-align: right;\n",
       "    }\n",
       "</style>\n",
       "<table border=\"1\" class=\"dataframe\">\n",
       "  <thead>\n",
       "    <tr style=\"text-align: right;\">\n",
       "      <th></th>\n",
       "      <th>Year</th>\n",
       "      <th>Count</th>\n",
       "    </tr>\n",
       "  </thead>\n",
       "  <tbody>\n",
       "    <tr>\n",
       "      <th>42</th>\n",
       "      <td>1960</td>\n",
       "      <td>7</td>\n",
       "    </tr>\n",
       "    <tr>\n",
       "      <th>27</th>\n",
       "      <td>1965</td>\n",
       "      <td>7</td>\n",
       "    </tr>\n",
       "    <tr>\n",
       "      <th>28</th>\n",
       "      <td>1970</td>\n",
       "      <td>7</td>\n",
       "    </tr>\n",
       "    <tr>\n",
       "      <th>29</th>\n",
       "      <td>1975</td>\n",
       "      <td>7</td>\n",
       "    </tr>\n",
       "    <tr>\n",
       "      <th>30</th>\n",
       "      <td>1976</td>\n",
       "      <td>7</td>\n",
       "    </tr>\n",
       "    <tr>\n",
       "      <th>31</th>\n",
       "      <td>1977</td>\n",
       "      <td>7</td>\n",
       "    </tr>\n",
       "    <tr>\n",
       "      <th>32</th>\n",
       "      <td>1978</td>\n",
       "      <td>7</td>\n",
       "    </tr>\n",
       "    <tr>\n",
       "      <th>33</th>\n",
       "      <td>1979</td>\n",
       "      <td>7</td>\n",
       "    </tr>\n",
       "    <tr>\n",
       "      <th>26</th>\n",
       "      <td>1980</td>\n",
       "      <td>7</td>\n",
       "    </tr>\n",
       "    <tr>\n",
       "      <th>35</th>\n",
       "      <td>1981</td>\n",
       "      <td>7</td>\n",
       "    </tr>\n",
       "    <tr>\n",
       "      <th>34</th>\n",
       "      <td>1982</td>\n",
       "      <td>7</td>\n",
       "    </tr>\n",
       "    <tr>\n",
       "      <th>36</th>\n",
       "      <td>1983</td>\n",
       "      <td>7</td>\n",
       "    </tr>\n",
       "    <tr>\n",
       "      <th>37</th>\n",
       "      <td>1984</td>\n",
       "      <td>7</td>\n",
       "    </tr>\n",
       "    <tr>\n",
       "      <th>38</th>\n",
       "      <td>1985</td>\n",
       "      <td>7</td>\n",
       "    </tr>\n",
       "    <tr>\n",
       "      <th>39</th>\n",
       "      <td>1986</td>\n",
       "      <td>7</td>\n",
       "    </tr>\n",
       "    <tr>\n",
       "      <th>40</th>\n",
       "      <td>1987</td>\n",
       "      <td>7</td>\n",
       "    </tr>\n",
       "    <tr>\n",
       "      <th>41</th>\n",
       "      <td>1988</td>\n",
       "      <td>7</td>\n",
       "    </tr>\n",
       "    <tr>\n",
       "      <th>25</th>\n",
       "      <td>1989</td>\n",
       "      <td>8</td>\n",
       "    </tr>\n",
       "    <tr>\n",
       "      <th>0</th>\n",
       "      <td>1990</td>\n",
       "      <td>210</td>\n",
       "    </tr>\n",
       "    <tr>\n",
       "      <th>24</th>\n",
       "      <td>1991</td>\n",
       "      <td>39</td>\n",
       "    </tr>\n",
       "    <tr>\n",
       "      <th>23</th>\n",
       "      <td>1992</td>\n",
       "      <td>50</td>\n",
       "    </tr>\n",
       "    <tr>\n",
       "      <th>22</th>\n",
       "      <td>1993</td>\n",
       "      <td>65</td>\n",
       "    </tr>\n",
       "    <tr>\n",
       "      <th>21</th>\n",
       "      <td>1994</td>\n",
       "      <td>91</td>\n",
       "    </tr>\n",
       "    <tr>\n",
       "      <th>20</th>\n",
       "      <td>1995</td>\n",
       "      <td>138</td>\n",
       "    </tr>\n",
       "    <tr>\n",
       "      <th>19</th>\n",
       "      <td>1996</td>\n",
       "      <td>175</td>\n",
       "    </tr>\n",
       "    <tr>\n",
       "      <th>18</th>\n",
       "      <td>1997</td>\n",
       "      <td>184</td>\n",
       "    </tr>\n",
       "    <tr>\n",
       "      <th>17</th>\n",
       "      <td>1998</td>\n",
       "      <td>190</td>\n",
       "    </tr>\n",
       "    <tr>\n",
       "      <th>15</th>\n",
       "      <td>1999</td>\n",
       "      <td>198</td>\n",
       "    </tr>\n",
       "    <tr>\n",
       "      <th>13</th>\n",
       "      <td>2000</td>\n",
       "      <td>199</td>\n",
       "    </tr>\n",
       "    <tr>\n",
       "      <th>11</th>\n",
       "      <td>2001</td>\n",
       "      <td>201</td>\n",
       "    </tr>\n",
       "    <tr>\n",
       "      <th>9</th>\n",
       "      <td>2002</td>\n",
       "      <td>202</td>\n",
       "    </tr>\n",
       "    <tr>\n",
       "      <th>16</th>\n",
       "      <td>2003</td>\n",
       "      <td>196</td>\n",
       "    </tr>\n",
       "    <tr>\n",
       "      <th>14</th>\n",
       "      <td>2004</td>\n",
       "      <td>199</td>\n",
       "    </tr>\n",
       "    <tr>\n",
       "      <th>10</th>\n",
       "      <td>2005</td>\n",
       "      <td>201</td>\n",
       "    </tr>\n",
       "    <tr>\n",
       "      <th>12</th>\n",
       "      <td>2006</td>\n",
       "      <td>200</td>\n",
       "    </tr>\n",
       "    <tr>\n",
       "      <th>2</th>\n",
       "      <td>2007</td>\n",
       "      <td>206</td>\n",
       "    </tr>\n",
       "    <tr>\n",
       "      <th>3</th>\n",
       "      <td>2008</td>\n",
       "      <td>204</td>\n",
       "    </tr>\n",
       "    <tr>\n",
       "      <th>6</th>\n",
       "      <td>2009</td>\n",
       "      <td>203</td>\n",
       "    </tr>\n",
       "    <tr>\n",
       "      <th>5</th>\n",
       "      <td>2010</td>\n",
       "      <td>203</td>\n",
       "    </tr>\n",
       "    <tr>\n",
       "      <th>1</th>\n",
       "      <td>2011</td>\n",
       "      <td>207</td>\n",
       "    </tr>\n",
       "    <tr>\n",
       "      <th>4</th>\n",
       "      <td>2012</td>\n",
       "      <td>203</td>\n",
       "    </tr>\n",
       "    <tr>\n",
       "      <th>8</th>\n",
       "      <td>2013</td>\n",
       "      <td>202</td>\n",
       "    </tr>\n",
       "    <tr>\n",
       "      <th>7</th>\n",
       "      <td>2014</td>\n",
       "      <td>202</td>\n",
       "    </tr>\n",
       "  </tbody>\n",
       "</table>\n",
       "</div>"
      ],
      "text/plain": [
       "    Year  Count\n",
       "42  1960      7\n",
       "27  1965      7\n",
       "28  1970      7\n",
       "29  1975      7\n",
       "30  1976      7\n",
       "31  1977      7\n",
       "32  1978      7\n",
       "33  1979      7\n",
       "26  1980      7\n",
       "35  1981      7\n",
       "34  1982      7\n",
       "36  1983      7\n",
       "37  1984      7\n",
       "38  1985      7\n",
       "39  1986      7\n",
       "40  1987      7\n",
       "41  1988      7\n",
       "25  1989      8\n",
       "0   1990    210\n",
       "24  1991     39\n",
       "23  1992     50\n",
       "22  1993     65\n",
       "21  1994     91\n",
       "20  1995    138\n",
       "19  1996    175\n",
       "18  1997    184\n",
       "17  1998    190\n",
       "15  1999    198\n",
       "13  2000    199\n",
       "11  2001    201\n",
       "9   2002    202\n",
       "16  2003    196\n",
       "14  2004    199\n",
       "10  2005    201\n",
       "12  2006    200\n",
       "2   2007    206\n",
       "3   2008    204\n",
       "6   2009    203\n",
       "5   2010    203\n",
       "1   2011    207\n",
       "4   2012    203\n",
       "8   2013    202\n",
       "7   2014    202"
      ]
     },
     "execution_count": 87,
     "metadata": {},
     "output_type": "execute_result"
    }
   ],
   "source": [
    "internet_years.sort_values('Year')"
   ]
  },
  {
   "cell_type": "markdown",
   "id": "5373a6fa",
   "metadata": {},
   "source": [
    "QUESTION 17:What is the first year to have a non-zero internet users percentage value? 2002"
   ]
  },
  {
   "cell_type": "code",
   "execution_count": 42,
   "id": "299d41ad",
   "metadata": {},
   "outputs": [
    {
     "data": {
      "text/html": [
       "<div>\n",
       "<style scoped>\n",
       "    .dataframe tbody tr th:only-of-type {\n",
       "        vertical-align: middle;\n",
       "    }\n",
       "\n",
       "    .dataframe tbody tr th {\n",
       "        vertical-align: top;\n",
       "    }\n",
       "\n",
       "    .dataframe thead th {\n",
       "        text-align: right;\n",
       "    }\n",
       "</style>\n",
       "<table border=\"1\" class=\"dataframe\">\n",
       "  <thead>\n",
       "    <tr style=\"text-align: right;\">\n",
       "      <th></th>\n",
       "      <th>Country</th>\n",
       "      <th>Year</th>\n",
       "      <th>Internet_Users_Pct</th>\n",
       "    </tr>\n",
       "  </thead>\n",
       "  <tbody>\n",
       "    <tr>\n",
       "      <th>0</th>\n",
       "      <td>Afghanistan</td>\n",
       "      <td>2014</td>\n",
       "      <td>6.390000</td>\n",
       "    </tr>\n",
       "    <tr>\n",
       "      <th>1</th>\n",
       "      <td>Afghanistan</td>\n",
       "      <td>2013</td>\n",
       "      <td>5.900000</td>\n",
       "    </tr>\n",
       "    <tr>\n",
       "      <th>2</th>\n",
       "      <td>Afghanistan</td>\n",
       "      <td>2012</td>\n",
       "      <td>5.454545</td>\n",
       "    </tr>\n",
       "    <tr>\n",
       "      <th>3</th>\n",
       "      <td>Afghanistan</td>\n",
       "      <td>2011</td>\n",
       "      <td>5.000000</td>\n",
       "    </tr>\n",
       "    <tr>\n",
       "      <th>4</th>\n",
       "      <td>Afghanistan</td>\n",
       "      <td>2010</td>\n",
       "      <td>4.000000</td>\n",
       "    </tr>\n",
       "    <tr>\n",
       "      <th>...</th>\n",
       "      <td>...</td>\n",
       "      <td>...</td>\n",
       "      <td>...</td>\n",
       "    </tr>\n",
       "    <tr>\n",
       "      <th>4481</th>\n",
       "      <td>Zimbabwe</td>\n",
       "      <td>2006</td>\n",
       "      <td>9.791842</td>\n",
       "    </tr>\n",
       "    <tr>\n",
       "      <th>4482</th>\n",
       "      <td>Zimbabwe</td>\n",
       "      <td>2005</td>\n",
       "      <td>8.015978</td>\n",
       "    </tr>\n",
       "    <tr>\n",
       "      <th>4483</th>\n",
       "      <td>Zimbabwe</td>\n",
       "      <td>2004</td>\n",
       "      <td>6.564045</td>\n",
       "    </tr>\n",
       "    <tr>\n",
       "      <th>4484</th>\n",
       "      <td>Zimbabwe</td>\n",
       "      <td>2003</td>\n",
       "      <td>6.394786</td>\n",
       "    </tr>\n",
       "    <tr>\n",
       "      <th>4485</th>\n",
       "      <td>Zimbabwe</td>\n",
       "      <td>2002</td>\n",
       "      <td>3.994356</td>\n",
       "    </tr>\n",
       "  </tbody>\n",
       "</table>\n",
       "<p>3039 rows × 3 columns</p>\n",
       "</div>"
      ],
      "text/plain": [
       "          Country  Year  Internet_Users_Pct\n",
       "0     Afghanistan  2014            6.390000\n",
       "1     Afghanistan  2013            5.900000\n",
       "2     Afghanistan  2012            5.454545\n",
       "3     Afghanistan  2011            5.000000\n",
       "4     Afghanistan  2010            4.000000\n",
       "...           ...   ...                 ...\n",
       "4481     Zimbabwe  2006            9.791842\n",
       "4482     Zimbabwe  2005            8.015978\n",
       "4483     Zimbabwe  2004            6.564045\n",
       "4484     Zimbabwe  2003            6.394786\n",
       "4485     Zimbabwe  2002            3.994356\n",
       "\n",
       "[3039 rows x 3 columns]"
      ]
     },
     "execution_count": 42,
     "metadata": {},
     "output_type": "execute_result"
    }
   ],
   "source": [
    "internet_df.loc[internet_df['Internet_Users_Pct']>= 1]"
   ]
  },
  {
   "cell_type": "markdown",
   "id": "f55beef3",
   "metadata": {},
   "source": [
    "QUESTION 18:How does the distribution of internet users percent differ for 2000 and 2014?Most 2000 percents are less than 1%, and most of the 2014 percents are significantly higher."
   ]
  },
  {
   "cell_type": "code",
   "execution_count": 43,
   "id": "7d804cc1",
   "metadata": {},
   "outputs": [],
   "source": [
    "year_internet= internet_df.loc[(internet_df['Year']==2000) | (internet_df['Year']==2014)]"
   ]
  },
  {
   "cell_type": "code",
   "execution_count": 44,
   "id": "99353c75",
   "metadata": {},
   "outputs": [
    {
     "data": {
      "text/html": [
       "<div>\n",
       "<style scoped>\n",
       "    .dataframe tbody tr th:only-of-type {\n",
       "        vertical-align: middle;\n",
       "    }\n",
       "\n",
       "    .dataframe tbody tr th {\n",
       "        vertical-align: top;\n",
       "    }\n",
       "\n",
       "    .dataframe thead th {\n",
       "        text-align: right;\n",
       "    }\n",
       "</style>\n",
       "<table border=\"1\" class=\"dataframe\">\n",
       "  <thead>\n",
       "    <tr style=\"text-align: right;\">\n",
       "      <th></th>\n",
       "      <th>Country</th>\n",
       "      <th>Year</th>\n",
       "      <th>Internet_Users_Pct</th>\n",
       "    </tr>\n",
       "  </thead>\n",
       "  <tbody>\n",
       "    <tr>\n",
       "      <th>0</th>\n",
       "      <td>Afghanistan</td>\n",
       "      <td>2014</td>\n",
       "      <td>6.390000</td>\n",
       "    </tr>\n",
       "    <tr>\n",
       "      <th>15</th>\n",
       "      <td>Albania</td>\n",
       "      <td>2014</td>\n",
       "      <td>60.100000</td>\n",
       "    </tr>\n",
       "    <tr>\n",
       "      <th>29</th>\n",
       "      <td>Albania</td>\n",
       "      <td>2000</td>\n",
       "      <td>0.114097</td>\n",
       "    </tr>\n",
       "    <tr>\n",
       "      <th>36</th>\n",
       "      <td>Algeria</td>\n",
       "      <td>2014</td>\n",
       "      <td>18.090000</td>\n",
       "    </tr>\n",
       "    <tr>\n",
       "      <th>50</th>\n",
       "      <td>Algeria</td>\n",
       "      <td>2000</td>\n",
       "      <td>0.491706</td>\n",
       "    </tr>\n",
       "    <tr>\n",
       "      <th>...</th>\n",
       "      <td>...</td>\n",
       "      <td>...</td>\n",
       "      <td>...</td>\n",
       "    </tr>\n",
       "    <tr>\n",
       "      <th>4445</th>\n",
       "      <td>Yemen</td>\n",
       "      <td>2000</td>\n",
       "      <td>0.082500</td>\n",
       "    </tr>\n",
       "    <tr>\n",
       "      <th>4451</th>\n",
       "      <td>Zambia</td>\n",
       "      <td>2014</td>\n",
       "      <td>17.340000</td>\n",
       "    </tr>\n",
       "    <tr>\n",
       "      <th>4465</th>\n",
       "      <td>Zambia</td>\n",
       "      <td>2000</td>\n",
       "      <td>0.191072</td>\n",
       "    </tr>\n",
       "    <tr>\n",
       "      <th>4473</th>\n",
       "      <td>Zimbabwe</td>\n",
       "      <td>2014</td>\n",
       "      <td>19.890000</td>\n",
       "    </tr>\n",
       "    <tr>\n",
       "      <th>4487</th>\n",
       "      <td>Zimbabwe</td>\n",
       "      <td>2000</td>\n",
       "      <td>0.401434</td>\n",
       "    </tr>\n",
       "  </tbody>\n",
       "</table>\n",
       "<p>401 rows × 3 columns</p>\n",
       "</div>"
      ],
      "text/plain": [
       "          Country  Year  Internet_Users_Pct\n",
       "0     Afghanistan  2014            6.390000\n",
       "15        Albania  2014           60.100000\n",
       "29        Albania  2000            0.114097\n",
       "36        Algeria  2014           18.090000\n",
       "50        Algeria  2000            0.491706\n",
       "...           ...   ...                 ...\n",
       "4445        Yemen  2000            0.082500\n",
       "4451       Zambia  2014           17.340000\n",
       "4465       Zambia  2000            0.191072\n",
       "4473     Zimbabwe  2014           19.890000\n",
       "4487     Zimbabwe  2000            0.401434\n",
       "\n",
       "[401 rows x 3 columns]"
      ]
     },
     "execution_count": 44,
     "metadata": {},
     "output_type": "execute_result"
    }
   ],
   "source": [
    "year_internet"
   ]
  },
  {
   "cell_type": "markdown",
   "id": "f70278f1",
   "metadata": {},
   "source": [
    "QUESTION 19:For how many countries was the percentage of internet users below 5% in 2014?"
   ]
  },
  {
   "cell_type": "code",
   "execution_count": 45,
   "id": "c44e8598",
   "metadata": {},
   "outputs": [
    {
     "data": {
      "text/plain": [
       "Country               16\n",
       "Year                  16\n",
       "Internet_Users_Pct    16\n",
       "dtype: int64"
      ]
     },
     "execution_count": 45,
     "metadata": {},
     "output_type": "execute_result"
    }
   ],
   "source": [
    "internet_2014=internet_df.loc[(internet_df['Internet_Users_Pct']<5)&(internet_df['Year']==2014)]\n",
    "internet_2014.count()"
   ]
  },
  {
   "cell_type": "markdown",
   "id": "32ea099a",
   "metadata": {},
   "source": [
    "QUESTION 20:Merge the two DataFrames to one. Do this in a way that keeps all rows from each of the two DataFrames. Call the new DataFrame gdp_and_internet_use. Look at the first and last few rows to confirm that it merged correctly."
   ]
  },
  {
   "cell_type": "code",
   "execution_count": 46,
   "id": "a604ee15",
   "metadata": {},
   "outputs": [
    {
     "data": {
      "text/html": [
       "<div>\n",
       "<style scoped>\n",
       "    .dataframe tbody tr th:only-of-type {\n",
       "        vertical-align: middle;\n",
       "    }\n",
       "\n",
       "    .dataframe tbody tr th {\n",
       "        vertical-align: top;\n",
       "    }\n",
       "\n",
       "    .dataframe thead th {\n",
       "        text-align: right;\n",
       "    }\n",
       "</style>\n",
       "<table border=\"1\" class=\"dataframe\">\n",
       "  <thead>\n",
       "    <tr style=\"text-align: right;\">\n",
       "      <th></th>\n",
       "      <th>Country</th>\n",
       "      <th>Year</th>\n",
       "      <th>GDP_Per_Capita</th>\n",
       "      <th>Internet_Users_Pct</th>\n",
       "    </tr>\n",
       "  </thead>\n",
       "  <tbody>\n",
       "    <tr>\n",
       "      <th>0</th>\n",
       "      <td>Afghanistan</td>\n",
       "      <td>2020</td>\n",
       "      <td>1970.560169</td>\n",
       "      <td>NaN</td>\n",
       "    </tr>\n",
       "    <tr>\n",
       "      <th>1</th>\n",
       "      <td>Afghanistan</td>\n",
       "      <td>2019</td>\n",
       "      <td>2065.036235</td>\n",
       "      <td>NaN</td>\n",
       "    </tr>\n",
       "    <tr>\n",
       "      <th>2</th>\n",
       "      <td>Afghanistan</td>\n",
       "      <td>2018</td>\n",
       "      <td>2033.804389</td>\n",
       "      <td>NaN</td>\n",
       "    </tr>\n",
       "    <tr>\n",
       "      <th>3</th>\n",
       "      <td>Afghanistan</td>\n",
       "      <td>2017</td>\n",
       "      <td>2058.400221</td>\n",
       "      <td>NaN</td>\n",
       "    </tr>\n",
       "    <tr>\n",
       "      <th>4</th>\n",
       "      <td>Afghanistan</td>\n",
       "      <td>2016</td>\n",
       "      <td>2057.067978</td>\n",
       "      <td>NaN</td>\n",
       "    </tr>\n",
       "    <tr>\n",
       "      <th>...</th>\n",
       "      <td>...</td>\n",
       "      <td>...</td>\n",
       "      <td>...</td>\n",
       "      <td>...</td>\n",
       "    </tr>\n",
       "    <tr>\n",
       "      <th>8251</th>\n",
       "      <td>Yemen</td>\n",
       "      <td>1999</td>\n",
       "      <td>NaN</td>\n",
       "      <td>0.056629</td>\n",
       "    </tr>\n",
       "    <tr>\n",
       "      <th>8252</th>\n",
       "      <td>Yemen</td>\n",
       "      <td>1998</td>\n",
       "      <td>NaN</td>\n",
       "      <td>0.023323</td>\n",
       "    </tr>\n",
       "    <tr>\n",
       "      <th>8253</th>\n",
       "      <td>Yemen</td>\n",
       "      <td>1997</td>\n",
       "      <td>NaN</td>\n",
       "      <td>0.015025</td>\n",
       "    </tr>\n",
       "    <tr>\n",
       "      <th>8254</th>\n",
       "      <td>Yemen</td>\n",
       "      <td>1996</td>\n",
       "      <td>NaN</td>\n",
       "      <td>0.000621</td>\n",
       "    </tr>\n",
       "    <tr>\n",
       "      <th>8255</th>\n",
       "      <td>Yemen</td>\n",
       "      <td>1990</td>\n",
       "      <td>NaN</td>\n",
       "      <td>0.000000</td>\n",
       "    </tr>\n",
       "  </tbody>\n",
       "</table>\n",
       "<p>8256 rows × 4 columns</p>\n",
       "</div>"
      ],
      "text/plain": [
       "          Country  Year  GDP_Per_Capita  Internet_Users_Pct\n",
       "0     Afghanistan  2020     1970.560169                 NaN\n",
       "1     Afghanistan  2019     2065.036235                 NaN\n",
       "2     Afghanistan  2018     2033.804389                 NaN\n",
       "3     Afghanistan  2017     2058.400221                 NaN\n",
       "4     Afghanistan  2016     2057.067978                 NaN\n",
       "...           ...   ...             ...                 ...\n",
       "8251        Yemen  1999             NaN            0.056629\n",
       "8252        Yemen  1998             NaN            0.023323\n",
       "8253        Yemen  1997             NaN            0.015025\n",
       "8254        Yemen  1996             NaN            0.000621\n",
       "8255        Yemen  1990             NaN            0.000000\n",
       "\n",
       "[8256 rows x 4 columns]"
      ]
     },
     "execution_count": 46,
     "metadata": {},
     "output_type": "execute_result"
    }
   ],
   "source": [
    "gdp_and_internet_use = pd.merge(new_named_gdp, internet_df,\n",
    "                               left_on = ['Country', 'Year'], right_on = ['Country','Year'],\n",
    "                               how = 'outer')\n",
    "                               \n",
    "gdp_and_internet_use"
   ]
  },
  {
   "cell_type": "markdown",
   "id": "7facb3dc",
   "metadata": {},
   "source": [
    "QUESTION 21:Find the three countries with the highest internet users percentage in 2014. \n",
    "    Use a seaborn FacetGrid (https://seaborn.pydata.org/generated/seaborn.FacetGrid.html) \n",
    "    to compare how the GDP per capita has changed over time for these three countries. What do you notice?"
   ]
  },
  {
   "cell_type": "code",
   "execution_count": 47,
   "id": "4b3b2a6c",
   "metadata": {
    "scrolled": true
   },
   "outputs": [
    {
     "data": {
      "text/html": [
       "<div>\n",
       "<style scoped>\n",
       "    .dataframe tbody tr th:only-of-type {\n",
       "        vertical-align: middle;\n",
       "    }\n",
       "\n",
       "    .dataframe tbody tr th {\n",
       "        vertical-align: top;\n",
       "    }\n",
       "\n",
       "    .dataframe thead th {\n",
       "        text-align: right;\n",
       "    }\n",
       "</style>\n",
       "<table border=\"1\" class=\"dataframe\">\n",
       "  <thead>\n",
       "    <tr style=\"text-align: right;\">\n",
       "      <th></th>\n",
       "      <th>Country</th>\n",
       "      <th>Year</th>\n",
       "      <th>GDP_Per_Capita</th>\n",
       "      <th>Internet_Users_Pct</th>\n",
       "    </tr>\n",
       "  </thead>\n",
       "  <tbody>\n",
       "    <tr>\n",
       "      <th>6</th>\n",
       "      <td>Afghanistan</td>\n",
       "      <td>2014</td>\n",
       "      <td>2102.384604</td>\n",
       "      <td>6.39</td>\n",
       "    </tr>\n",
       "    <tr>\n",
       "      <th>25</th>\n",
       "      <td>Africa Eastern and Southern</td>\n",
       "      <td>2014</td>\n",
       "      <td>3677.319414</td>\n",
       "      <td>NaN</td>\n",
       "    </tr>\n",
       "    <tr>\n",
       "      <th>56</th>\n",
       "      <td>Africa Western and Central</td>\n",
       "      <td>2014</td>\n",
       "      <td>4215.646000</td>\n",
       "      <td>NaN</td>\n",
       "    </tr>\n",
       "    <tr>\n",
       "      <th>87</th>\n",
       "      <td>Albania</td>\n",
       "      <td>2014</td>\n",
       "      <td>11586.833878</td>\n",
       "      <td>60.10</td>\n",
       "    </tr>\n",
       "    <tr>\n",
       "      <th>118</th>\n",
       "      <td>Algeria</td>\n",
       "      <td>2014</td>\n",
       "      <td>11512.690472</td>\n",
       "      <td>18.09</td>\n",
       "    </tr>\n",
       "  </tbody>\n",
       "</table>\n",
       "</div>"
      ],
      "text/plain": [
       "                         Country  Year  GDP_Per_Capita  Internet_Users_Pct\n",
       "6                    Afghanistan  2014     2102.384604                6.39\n",
       "25   Africa Eastern and Southern  2014     3677.319414                 NaN\n",
       "56    Africa Western and Central  2014     4215.646000                 NaN\n",
       "87                       Albania  2014    11586.833878               60.10\n",
       "118                      Algeria  2014    11512.690472               18.09"
      ]
     },
     "execution_count": 47,
     "metadata": {},
     "output_type": "execute_result"
    }
   ],
   "source": [
    "gdp_and_internet_use_21 = gdp_and_internet_use.loc[gdp_and_internet_use['Year']==2014]\n",
    "gdp_and_internet_use_21.head()                                            "
   ]
  },
  {
   "cell_type": "code",
   "execution_count": 48,
   "id": "318b6006",
   "metadata": {
    "scrolled": false
   },
   "outputs": [
    {
     "data": {
      "text/plain": [
       "2803    98.16\n",
       "645     96.80\n",
       "4880    96.30\n",
       "Name: Internet_Users_Pct, dtype: float64"
      ]
     },
     "execution_count": 48,
     "metadata": {},
     "output_type": "execute_result"
    }
   ],
   "source": [
    "gdp_and_internet_use_21['Internet_Users_Pct'].nlargest(n=3)"
   ]
  },
  {
   "cell_type": "code",
   "execution_count": 49,
   "id": "9a5385a7",
   "metadata": {},
   "outputs": [],
   "source": [
    "gdp_and_internet_users_21= gdp_and_internet_use_21.loc[(gdp_and_internet_use_21['Internet_Users_Pct']== 98.16)| (gdp_and_internet_use_21['Internet_Users_Pct']==96.80)| (gdp_and_internet_use_21['Internet_Users_Pct']==96.30)]"
   ]
  },
  {
   "cell_type": "code",
   "execution_count": 50,
   "id": "6725361b",
   "metadata": {
    "scrolled": false
   },
   "outputs": [
    {
     "data": {
      "text/html": [
       "<div>\n",
       "<style scoped>\n",
       "    .dataframe tbody tr th:only-of-type {\n",
       "        vertical-align: middle;\n",
       "    }\n",
       "\n",
       "    .dataframe tbody tr th {\n",
       "        vertical-align: top;\n",
       "    }\n",
       "\n",
       "    .dataframe thead th {\n",
       "        text-align: right;\n",
       "    }\n",
       "</style>\n",
       "<table border=\"1\" class=\"dataframe\">\n",
       "  <thead>\n",
       "    <tr style=\"text-align: right;\">\n",
       "      <th></th>\n",
       "      <th>Country</th>\n",
       "      <th>Year</th>\n",
       "      <th>GDP_Per_Capita</th>\n",
       "      <th>Internet_Users_Pct</th>\n",
       "    </tr>\n",
       "  </thead>\n",
       "  <tbody>\n",
       "    <tr>\n",
       "      <th>645</th>\n",
       "      <td>Bermuda</td>\n",
       "      <td>2014</td>\n",
       "      <td>77361.104881</td>\n",
       "      <td>96.80</td>\n",
       "    </tr>\n",
       "    <tr>\n",
       "      <th>2803</th>\n",
       "      <td>Iceland</td>\n",
       "      <td>2014</td>\n",
       "      <td>50450.741612</td>\n",
       "      <td>98.16</td>\n",
       "    </tr>\n",
       "    <tr>\n",
       "      <th>4880</th>\n",
       "      <td>Norway</td>\n",
       "      <td>2014</td>\n",
       "      <td>62390.130313</td>\n",
       "      <td>96.30</td>\n",
       "    </tr>\n",
       "  </tbody>\n",
       "</table>\n",
       "</div>"
      ],
      "text/plain": [
       "      Country  Year  GDP_Per_Capita  Internet_Users_Pct\n",
       "645   Bermuda  2014    77361.104881               96.80\n",
       "2803  Iceland  2014    50450.741612               98.16\n",
       "4880   Norway  2014    62390.130313               96.30"
      ]
     },
     "execution_count": 50,
     "metadata": {},
     "output_type": "execute_result"
    }
   ],
   "source": [
    "gdp_and_internet_users_21"
   ]
  },
  {
   "cell_type": "code",
   "execution_count": 51,
   "id": "3c3a9133",
   "metadata": {},
   "outputs": [],
   "source": [
    "gdp_and_internet_use=gdp_and_internet_use.loc[(gdp_and_internet_use['Country']== 'Bermuda')| (gdp_and_internet_use['Country']=='Iceland')| (gdp_and_internet_use['Country']== 'Norway')]"
   ]
  },
  {
   "cell_type": "code",
   "execution_count": 52,
   "id": "24e9048b",
   "metadata": {},
   "outputs": [
    {
     "data": {
      "text/html": [
       "<div>\n",
       "<style scoped>\n",
       "    .dataframe tbody tr th:only-of-type {\n",
       "        vertical-align: middle;\n",
       "    }\n",
       "\n",
       "    .dataframe tbody tr th {\n",
       "        vertical-align: top;\n",
       "    }\n",
       "\n",
       "    .dataframe thead th {\n",
       "        text-align: right;\n",
       "    }\n",
       "</style>\n",
       "<table border=\"1\" class=\"dataframe\">\n",
       "  <thead>\n",
       "    <tr style=\"text-align: right;\">\n",
       "      <th></th>\n",
       "      <th>Country</th>\n",
       "      <th>Year</th>\n",
       "      <th>GDP_Per_Capita</th>\n",
       "      <th>Internet_Users_Pct</th>\n",
       "    </tr>\n",
       "  </thead>\n",
       "  <tbody>\n",
       "    <tr>\n",
       "      <th>639</th>\n",
       "      <td>Bermuda</td>\n",
       "      <td>2020</td>\n",
       "      <td>76105.138057</td>\n",
       "      <td>NaN</td>\n",
       "    </tr>\n",
       "    <tr>\n",
       "      <th>640</th>\n",
       "      <td>Bermuda</td>\n",
       "      <td>2019</td>\n",
       "      <td>81681.726668</td>\n",
       "      <td>NaN</td>\n",
       "    </tr>\n",
       "    <tr>\n",
       "      <th>641</th>\n",
       "      <td>Bermuda</td>\n",
       "      <td>2018</td>\n",
       "      <td>81423.408453</td>\n",
       "      <td>NaN</td>\n",
       "    </tr>\n",
       "    <tr>\n",
       "      <th>642</th>\n",
       "      <td>Bermuda</td>\n",
       "      <td>2017</td>\n",
       "      <td>81834.955874</td>\n",
       "      <td>NaN</td>\n",
       "    </tr>\n",
       "    <tr>\n",
       "      <th>643</th>\n",
       "      <td>Bermuda</td>\n",
       "      <td>2016</td>\n",
       "      <td>78149.352535</td>\n",
       "      <td>NaN</td>\n",
       "    </tr>\n",
       "    <tr>\n",
       "      <th>...</th>\n",
       "      <td>...</td>\n",
       "      <td>...</td>\n",
       "      <td>...</td>\n",
       "      <td>...</td>\n",
       "    </tr>\n",
       "    <tr>\n",
       "      <th>7670</th>\n",
       "      <td>Iceland</td>\n",
       "      <td>1994</td>\n",
       "      <td>NaN</td>\n",
       "      <td>6.794812</td>\n",
       "    </tr>\n",
       "    <tr>\n",
       "      <th>7671</th>\n",
       "      <td>Iceland</td>\n",
       "      <td>1993</td>\n",
       "      <td>NaN</td>\n",
       "      <td>2.667825</td>\n",
       "    </tr>\n",
       "    <tr>\n",
       "      <th>7672</th>\n",
       "      <td>Iceland</td>\n",
       "      <td>1992</td>\n",
       "      <td>NaN</td>\n",
       "      <td>1.539160</td>\n",
       "    </tr>\n",
       "    <tr>\n",
       "      <th>7673</th>\n",
       "      <td>Iceland</td>\n",
       "      <td>1991</td>\n",
       "      <td>NaN</td>\n",
       "      <td>0.505129</td>\n",
       "    </tr>\n",
       "    <tr>\n",
       "      <th>7674</th>\n",
       "      <td>Iceland</td>\n",
       "      <td>1990</td>\n",
       "      <td>NaN</td>\n",
       "      <td>0.000000</td>\n",
       "    </tr>\n",
       "  </tbody>\n",
       "</table>\n",
       "<p>93 rows × 4 columns</p>\n",
       "</div>"
      ],
      "text/plain": [
       "      Country  Year  GDP_Per_Capita  Internet_Users_Pct\n",
       "639   Bermuda  2020    76105.138057                 NaN\n",
       "640   Bermuda  2019    81681.726668                 NaN\n",
       "641   Bermuda  2018    81423.408453                 NaN\n",
       "642   Bermuda  2017    81834.955874                 NaN\n",
       "643   Bermuda  2016    78149.352535                 NaN\n",
       "...       ...   ...             ...                 ...\n",
       "7670  Iceland  1994             NaN            6.794812\n",
       "7671  Iceland  1993             NaN            2.667825\n",
       "7672  Iceland  1992             NaN            1.539160\n",
       "7673  Iceland  1991             NaN            0.505129\n",
       "7674  Iceland  1990             NaN            0.000000\n",
       "\n",
       "[93 rows x 4 columns]"
      ]
     },
     "execution_count": 52,
     "metadata": {},
     "output_type": "execute_result"
    }
   ],
   "source": [
    "gdp_and_internet_use"
   ]
  },
  {
   "cell_type": "code",
   "execution_count": 53,
   "id": "9c774e54",
   "metadata": {},
   "outputs": [
    {
     "data": {
      "text/plain": [
       "<Axes: xlabel='Year', ylabel='GDP_Per_Capita'>"
      ]
     },
     "execution_count": 53,
     "metadata": {},
     "output_type": "execute_result"
    },
    {
     "data": {
      "image/png": "[encoded data removed]",
      "text/plain": [
       "<Figure size 640x480 with 1 Axes>"
      ]
     },
     "metadata": {},
     "output_type": "display_data"
    }
   ],
   "source": [
    "sns.regplot(x=gdp_and_internet_use['Year'], y=gdp_and_internet_use['GDP_Per_Capita'])"
   ]
  },
  {
   "cell_type": "markdown",
   "id": "6f2d38aa",
   "metadata": {},
   "source": [
    "QUESTION 22:Subset gdp_and_internet_use to just the year 2014. Save this as a new dataframe named gdp_and_internet_use_2014."
   ]
  },
  {
   "cell_type": "code",
   "execution_count": 54,
   "id": "fc8f6baf",
   "metadata": {},
   "outputs": [],
   "source": [
    "gdp_and_internet_use_2014= gdp_and_internet_use.loc[gdp_and_internet_use['Year']== 2014]"
   ]
  },
  {
   "cell_type": "code",
   "execution_count": 55,
   "id": "a9bcca2b",
   "metadata": {},
   "outputs": [
    {
     "data": {
      "text/html": [
       "<div>\n",
       "<style scoped>\n",
       "    .dataframe tbody tr th:only-of-type {\n",
       "        vertical-align: middle;\n",
       "    }\n",
       "\n",
       "    .dataframe tbody tr th {\n",
       "        vertical-align: top;\n",
       "    }\n",
       "\n",
       "    .dataframe thead th {\n",
       "        text-align: right;\n",
       "    }\n",
       "</style>\n",
       "<table border=\"1\" class=\"dataframe\">\n",
       "  <thead>\n",
       "    <tr style=\"text-align: right;\">\n",
       "      <th></th>\n",
       "      <th>Country</th>\n",
       "      <th>Year</th>\n",
       "      <th>GDP_Per_Capita</th>\n",
       "      <th>Internet_Users_Pct</th>\n",
       "    </tr>\n",
       "  </thead>\n",
       "  <tbody>\n",
       "    <tr>\n",
       "      <th>645</th>\n",
       "      <td>Bermuda</td>\n",
       "      <td>2014</td>\n",
       "      <td>77361.104881</td>\n",
       "      <td>96.80</td>\n",
       "    </tr>\n",
       "    <tr>\n",
       "      <th>2803</th>\n",
       "      <td>Iceland</td>\n",
       "      <td>2014</td>\n",
       "      <td>50450.741612</td>\n",
       "      <td>98.16</td>\n",
       "    </tr>\n",
       "    <tr>\n",
       "      <th>4880</th>\n",
       "      <td>Norway</td>\n",
       "      <td>2014</td>\n",
       "      <td>62390.130313</td>\n",
       "      <td>96.30</td>\n",
       "    </tr>\n",
       "  </tbody>\n",
       "</table>\n",
       "</div>"
      ],
      "text/plain": [
       "      Country  Year  GDP_Per_Capita  Internet_Users_Pct\n",
       "645   Bermuda  2014    77361.104881               96.80\n",
       "2803  Iceland  2014    50450.741612               98.16\n",
       "4880   Norway  2014    62390.130313               96.30"
      ]
     },
     "execution_count": 55,
     "metadata": {},
     "output_type": "execute_result"
    }
   ],
   "source": [
    "gdp_and_internet_use_2014"
   ]
  },
  {
   "cell_type": "markdown",
   "id": "43787810",
   "metadata": {},
   "source": [
    "QUESTION 23:Create a plot which compares Internet Users Percentage and GDP per Capita for the year 2014. \n",
    "    What do you notice from this plot? If you see any unusual points, investigate them."
   ]
  },
  {
   "cell_type": "code",
   "execution_count": 56,
   "id": "713cc29d",
   "metadata": {},
   "outputs": [
    {
     "data": {
      "text/plain": [
       "<Axes: xlabel='Internet_Users_Pct', ylabel='GDP_Per_Capita'>"
      ]
     },
     "execution_count": 56,
     "metadata": {},
     "output_type": "execute_result"
    },
    {
     "data": {
      "image/png": "[encoded data removed]",
      "text/plain": [
       "<Figure size 640x480 with 1 Axes>"
      ]
     },
     "metadata": {},
     "output_type": "display_data"
    }
   ],
   "source": [
    "sns.regplot(x=gdp_and_internet_use_2014['Internet_Users_Pct'], y=gdp_and_internet_use_2014['GDP_Per_Capita'])"
   ]
  },
  {
   "cell_type": "code",
   "execution_count": null,
   "id": "71413547",
   "metadata": {},
   "outputs": [],
   "source": []
  }
 ],
 "metadata": {
  "kernelspec": {
   "display_name": "Python 3 (ipykernel)",
   "language": "python",
   "name": "python3"
  },
  "language_info": {
   "codemirror_mode": {
    "name": "ipython",
    "version": 3
   },
   "file_extension": ".py",
   "mimetype": "text/x-python",
   "name": "python",
   "nbconvert_exporter": "python",
   "pygments_lexer": "ipython3",
   "version": "3.10.9"
  }
 },
 "nbformat": 4,
 "nbformat_minor": 5
}
